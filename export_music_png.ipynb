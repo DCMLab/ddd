{
 "cells": [
  {
   "cell_type": "code",
   "execution_count": 70,
   "id": "743584b7",
   "metadata": {},
   "outputs": [],
   "source": [
    "import os\n",
    "import xml.etree.ElementTree as ET\n",
    "from PIL import Image\n",
    "import matplotlib.pyplot as plt\n",
    "from tqdm import tqdm\n",
    "import numpy as np\n",
    "import warnings"
   ]
  },
  {
   "cell_type": "code",
   "execution_count": 71,
   "id": "da06ae4e",
   "metadata": {},
   "outputs": [],
   "source": [
    "ns = { \"tei\" : \"http://www.tei-c.org/ns/1.0\" }"
   ]
  },
  {
   "cell_type": "code",
   "execution_count": 72,
   "id": "9fe9382f",
   "metadata": {},
   "outputs": [],
   "source": [
    "warnings.filterwarnings(\"ignore\")"
   ]
  },
  {
   "cell_type": "code",
   "execution_count": 67,
   "id": "8dc942ee",
   "metadata": {},
   "outputs": [],
   "source": [
    "#Choose name of book and category (for now: either 'graphic' or 'music')\n",
    "# Other categories can be added, remember to create the corresponding folder in 'music_examples'\n",
    "def extract_images(book, category):\n",
    "    tree = ET.parse(f'data/{book}/{book}_tei.xml')\n",
    "    root = tree.getroot()\n",
    "    \n",
    "    for facsimile in root.findall(\".//tei:facsimile\", ns):\n",
    "        img_url = facsimile.find(\".//tei:graphic\", ns).attrib[\"url\"]\n",
    "        \n",
    "        if category=='music':\n",
    "            rendition = 'Music'\n",
    "        elif category=='graphic':\n",
    "            rendition = 'Graphic'\n",
    "        else:\n",
    "            print('invalid category: choose music or graphic')\n",
    "            break\n",
    "        for zone in facsimile.findall(f\".//tei:zone[@rendition='{rendition}']\", ns)[:2]:\n",
    "            img_id = zone.attrib[\"{http://www.w3.org/XML/1998/namespace}id\"]\n",
    "             \n",
    "            points = zone.attrib[\"points\"]\n",
    "            points = points.split()\n",
    "            points = [list(map(int, p.split(','))) for p in points]        \n",
    "            points = np.array(points)\n",
    "            x1, y1 = points.min(axis=0)\n",
    "            x2, y2 = points.max(axis=0)\n",
    "\n",
    "            img = Image.open(f'data/{book}/{book}/' + img_url)\n",
    "            \n",
    "            music_region = img.crop((x1,y1,x2,y2))\n",
    "            music_region.save(f'data/{book}/music_examples/{category}/{img_id}.png')\n"
   ]
  },
  {
   "cell_type": "code",
   "execution_count": 68,
   "id": "89d93c1f",
   "metadata": {},
   "outputs": [],
   "source": [
    "#Extract images for a single book\n",
    "extract_images('CAP1905', category='graphic')"
   ]
  },
  {
   "cell_type": "code",
   "execution_count": 73,
   "id": "48d86c9f",
   "metadata": {},
   "outputs": [
    {
     "name": "stderr",
     "output_type": "stream",
     "text": [
      "100%|██████████████████████████████████████████████████████████████████████████████████| 10/10 [01:56<00:00, 11.64s/it]\n"
     ]
    }
   ],
   "source": [
    "#Extract images for the whole list of books\n",
    "for name in tqdm(os.listdir('data')):\n",
    "    extract_images(name, category='music')"
   ]
  },
  {
   "cell_type": "code",
   "execution_count": null,
   "id": "ef21ea83",
   "metadata": {},
   "outputs": [],
   "source": []
  }
 ],
 "metadata": {
  "kernelspec": {
   "display_name": "Python 3",
   "language": "python",
   "name": "python3"
  },
  "language_info": {
   "codemirror_mode": {
    "name": "ipython",
    "version": 3
   },
   "file_extension": ".py",
   "mimetype": "text/x-python",
   "name": "python",
   "nbconvert_exporter": "python",
   "pygments_lexer": "ipython3",
   "version": "3.8.10"
  }
 },
 "nbformat": 4,
 "nbformat_minor": 5
}
