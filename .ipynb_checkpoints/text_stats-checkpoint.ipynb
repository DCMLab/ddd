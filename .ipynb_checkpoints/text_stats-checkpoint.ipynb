{
 "cells": [
  {
   "cell_type": "code",
   "execution_count": 1,
   "metadata": {},
   "outputs": [],
   "source": [
    "import spacy\n",
    "from collections import Counter\n",
    "import tomotopy as tp\n",
    "import os\n",
    "from tqdm import tqdm\n",
    "import pandas"
   ]
  },
  {
   "cell_type": "markdown",
   "metadata": {},
   "source": [
    "## Prepare data"
   ]
  },
  {
   "cell_type": "code",
   "execution_count": 2,
   "metadata": {},
   "outputs": [],
   "source": [
    "# Load german model\n",
    "nlp = spacy.load('de_core_news_lg')"
   ]
  },
  {
   "cell_type": "code",
   "execution_count": 3,
   "metadata": {},
   "outputs": [],
   "source": [
    "# Parse files\n",
    "file_list = []\n",
    "for file in os.listdir('data/all_txt/'):\n",
    "    file_list.append(file)"
   ]
  },
  {
   "cell_type": "code",
   "execution_count": 4,
   "metadata": {},
   "outputs": [
    {
     "name": "stderr",
     "output_type": "stream",
     "text": [
      "100%|██████████| 8/8 [01:40<00:00, 12.58s/it]\n"
     ]
    }
   ],
   "source": [
    "# Create a dictionary of all lemmatized texts\n",
    "texts = dict()\n",
    "for file in tqdm(file_list):\n",
    "    with open(f'data/all_txt/{file}', 'r', encoding='utf-8') as f:\n",
    "        text = f.read()\n",
    "        text = text.replace('¬\\n', '')\n",
    "        doc = nlp(text)\n",
    "        name = file.split('.')[0]\n",
    "        \n",
    "        texts[name] = doc\n",
    "        "
   ]
  },
  {
   "cell_type": "code",
   "execution_count": 5,
   "metadata": {},
   "outputs": [],
   "source": [
    "entries = []\n",
    "for name, txt in texts.items():\n",
    "    words = [token.text\n",
    "         for token in txt\n",
    "         if not token.is_stop and not token.is_punct and not token.is_space]\n",
    "    nouns = [token.text\n",
    "         for token in txt\n",
    "         if (not token.is_stop and\n",
    "             not token.is_punct and\n",
    "             token.pos_ == \"NOUN\")]\n",
    "    vocab = set(words)\n",
    "    \n",
    "    # most common tokens\n",
    "    word_freq = Counter(words)\n",
    "    common_words = word_freq.most_common(10)\n",
    "\n",
    "    # most common noun tokens\n",
    "    noun_freq = Counter(nouns)\n",
    "    common_nouns = noun_freq.most_common(10)\n",
    "\n",
    "    # vocabulary size\n",
    "    vocab_size = len(vocab)\n",
    "    \n",
    "    entry = {\n",
    "        'name': name,\n",
    "        'common words': common_words,\n",
    "        'common nouns': common_nouns,\n",
    "        'vocabulary size': vocab_size,\n",
    "    }\n",
    "    \n",
    "    entries.append(entry)\n",
    "    "
   ]
  },
  {
   "cell_type": "code",
   "execution_count": 6,
   "metadata": {},
   "outputs": [],
   "source": [
    "glob_words = []\n",
    "glob_nouns = []\n",
    "\n",
    "for name, txt in texts.items():\n",
    "    for token in txt:\n",
    "        if not token.is_stop and not token.is_punct and not token.is_space:\n",
    "            glob_words.append(token.text)\n",
    "        if (not token.is_stop and not token.is_punct and token.pos_ == \"NOUN\"):\n",
    "            glob_nouns.append(token.text)\n",
    "\n",
    "glob_vocab = set(glob_words)\n",
    "\n",
    "# most common tokens\n",
    "word_freq = Counter(glob_words)\n",
    "glob_common_words = word_freq.most_common(10)\n",
    "\n",
    "# most common noun tokens\n",
    "noun_freq = Counter(glob_nouns)\n",
    "glob_common_nouns = noun_freq.most_common(10)\n",
    "\n",
    "# vocabulary size\n",
    "glob_vocab_size = len(glob_vocab)\n",
    "\n",
    "glob_entry = {\n",
    "    'name': 'all texts',\n",
    "    'common words': glob_common_words,\n",
    "    'common nouns': glob_common_nouns,\n",
    "    'vocabulary size': glob_vocab_size,\n",
    "}\n",
    "\n",
    "entries.append(glob_entry)\n"
   ]
  },
  {
   "cell_type": "code",
   "execution_count": 7,
   "metadata": {},
   "outputs": [
    {
     "data": {
      "text/plain": [
       "{'name': 'all texts',\n",
       " 'common words': [('$', 922),\n",
       "  ('Töne', 662),\n",
       "  ('c', 605),\n",
       "  ('e', 543),\n",
       "  ('Terz', 476),\n",
       "  ('g', 450),\n",
       "  ('Ton', 436),\n",
       "  ('C', 435),\n",
       "  ('Folge', 407),\n",
       "  ('Bedeutung', 406)],\n",
       " 'common nouns': [('Töne', 662),\n",
       "  ('Terz', 439),\n",
       "  ('Ton', 435),\n",
       "  ('Folge', 407),\n",
       "  ('Bedeutung', 406),\n",
       "  ('Tonart', 352),\n",
       "  ('Grundton', 348),\n",
       "  ('B.', 285),\n",
       "  ('Accorde', 282),\n",
       "  ('Dissonanz', 254)],\n",
       " 'vocabulary size': 19576}"
      ]
     },
     "execution_count": 7,
     "metadata": {},
     "output_type": "execute_result"
    }
   ],
   "source": [
    "glob_entry"
   ]
  },
  {
   "cell_type": "code",
   "execution_count": 8,
   "metadata": {},
   "outputs": [],
   "source": [
    "df = pandas.DataFrame(data=entries)"
   ]
  },
  {
   "cell_type": "code",
   "execution_count": 9,
   "metadata": {},
   "outputs": [],
   "source": [
    "df.to_csv('text_stats.csv', encoding='utf-8')"
   ]
  },
  {
   "cell_type": "code",
   "execution_count": 15,
   "metadata": {},
   "outputs": [
    {
     "data": {
      "text/html": [
       "<div>\n",
       "<style scoped>\n",
       "    .dataframe tbody tr th:only-of-type {\n",
       "        vertical-align: middle;\n",
       "    }\n",
       "\n",
       "    .dataframe tbody tr th {\n",
       "        vertical-align: top;\n",
       "    }\n",
       "\n",
       "    .dataframe thead th {\n",
       "        text-align: right;\n",
       "    }\n",
       "</style>\n",
       "<table border=\"1\" class=\"dataframe\">\n",
       "  <thead>\n",
       "    <tr style=\"text-align: right;\">\n",
       "      <th></th>\n",
       "      <th>name</th>\n",
       "      <th>common words</th>\n",
       "      <th>common nouns</th>\n",
       "      <th>vocabulary size</th>\n",
       "    </tr>\n",
       "  </thead>\n",
       "  <tbody>\n",
       "    <tr>\n",
       "      <th>0</th>\n",
       "      <td>KUN1863</td>\n",
       "      <td>[(Fig, 89), (2c, 85), (Verfasser, 83), (Töne, ...</td>\n",
       "      <td>[(2c, 85), (Verfasser, 83), (Töne, 76), (Seite...</td>\n",
       "      <td>5321</td>\n",
       "    </tr>\n",
       "    <tr>\n",
       "      <th>1</th>\n",
       "      <td>RIE1905</td>\n",
       "      <td>[(Töne, 38), (Konsonanz, 30), (Ton, 28), (Terz...</td>\n",
       "      <td>[(Töne, 38), (Konsonanz, 30), (Ton, 28), (Terz...</td>\n",
       "      <td>2332</td>\n",
       "    </tr>\n",
       "    <tr>\n",
       "      <th>2</th>\n",
       "      <td>NAU1858</td>\n",
       "      <td>[($, 250), (MATH, 114), (Töne, 110), (Terz, 63...</td>\n",
       "      <td>[(Töne, 110), (Terz, 63), (Quinte, 46), (Octav...</td>\n",
       "      <td>2756</td>\n",
       "    </tr>\n",
       "    <tr>\n",
       "      <th>3</th>\n",
       "      <td>HAU1853</td>\n",
       "      <td>[(Quint, 305), (Terz, 254), (Folge, 249), (Bed...</td>\n",
       "      <td>[(Folge, 249), (Bedeutung, 235), (Terz, 233), ...</td>\n",
       "      <td>7910</td>\n",
       "    </tr>\n",
       "    <tr>\n",
       "      <th>4</th>\n",
       "      <td>CAP1905</td>\n",
       "      <td>[(c, 161), (S., 159), (e, 159), (g, 128), (C, ...</td>\n",
       "      <td>[(S., 154), (Terz, 52), (Grundton, 51), (Töne,...</td>\n",
       "      <td>4921</td>\n",
       "    </tr>\n",
       "    <tr>\n",
       "      <th>5</th>\n",
       "      <td>OET1866</td>\n",
       "      <td>[(c, 341), (1, 255), (g, 255), ($, 244), (e, 2...</td>\n",
       "      <td>[(Töne, 189), (Ton, 145), (Klänge, 144), (Verw...</td>\n",
       "      <td>6786</td>\n",
       "    </tr>\n",
       "    <tr>\n",
       "      <th>6</th>\n",
       "      <td>WEI1860</td>\n",
       "      <td>[(C, 55), (Tonart, 47), (Töne, 46), (z., 46), ...</td>\n",
       "      <td>[(Tonart, 47), (Töne, 46), (B., 46), (Quinte, ...</td>\n",
       "      <td>1864</td>\n",
       "    </tr>\n",
       "    <tr>\n",
       "      <th>7</th>\n",
       "      <td>WEI1861</td>\n",
       "      <td>[(B., 37), (Tonart, 30), (Herr, 25), (Schrift,...</td>\n",
       "      <td>[(Tonart, 30), (Herr, 25), (Schrift, 22), (Kri...</td>\n",
       "      <td>1731</td>\n",
       "    </tr>\n",
       "    <tr>\n",
       "      <th>8</th>\n",
       "      <td>all texts</td>\n",
       "      <td>[($, 922), (Töne, 662), (c, 605), (e, 543), (T...</td>\n",
       "      <td>[(Töne, 662), (Terz, 439), (Ton, 435), (Folge,...</td>\n",
       "      <td>19576</td>\n",
       "    </tr>\n",
       "  </tbody>\n",
       "</table>\n",
       "</div>"
      ],
      "text/plain": [
       "        name                                       common words  \\\n",
       "0    KUN1863  [(Fig, 89), (2c, 85), (Verfasser, 83), (Töne, ...   \n",
       "1    RIE1905  [(Töne, 38), (Konsonanz, 30), (Ton, 28), (Terz...   \n",
       "2    NAU1858  [($, 250), (MATH, 114), (Töne, 110), (Terz, 63...   \n",
       "3    HAU1853  [(Quint, 305), (Terz, 254), (Folge, 249), (Bed...   \n",
       "4    CAP1905  [(c, 161), (S., 159), (e, 159), (g, 128), (C, ...   \n",
       "5    OET1866  [(c, 341), (1, 255), (g, 255), ($, 244), (e, 2...   \n",
       "6    WEI1860  [(C, 55), (Tonart, 47), (Töne, 46), (z., 46), ...   \n",
       "7    WEI1861  [(B., 37), (Tonart, 30), (Herr, 25), (Schrift,...   \n",
       "8  all texts  [($, 922), (Töne, 662), (c, 605), (e, 543), (T...   \n",
       "\n",
       "                                        common nouns  vocabulary size  \n",
       "0  [(2c, 85), (Verfasser, 83), (Töne, 76), (Seite...             5321  \n",
       "1  [(Töne, 38), (Konsonanz, 30), (Ton, 28), (Terz...             2332  \n",
       "2  [(Töne, 110), (Terz, 63), (Quinte, 46), (Octav...             2756  \n",
       "3  [(Folge, 249), (Bedeutung, 235), (Terz, 233), ...             7910  \n",
       "4  [(S., 154), (Terz, 52), (Grundton, 51), (Töne,...             4921  \n",
       "5  [(Töne, 189), (Ton, 145), (Klänge, 144), (Verw...             6786  \n",
       "6  [(Tonart, 47), (Töne, 46), (B., 46), (Quinte, ...             1864  \n",
       "7  [(Tonart, 30), (Herr, 25), (Schrift, 22), (Kri...             1731  \n",
       "8  [(Töne, 662), (Terz, 439), (Ton, 435), (Folge,...            19576  "
      ]
     },
     "execution_count": 15,
     "metadata": {},
     "output_type": "execute_result"
    }
   ],
   "source": [
    "df"
   ]
  },
  {
   "cell_type": "code",
   "execution_count": 16,
   "metadata": {},
   "outputs": [],
   "source": [
    "words = [token.text\n",
    "         for token in doc\n",
    "         if not token.is_stop and not token.is_punct and not token.is_space]"
   ]
  },
  {
   "cell_type": "code",
   "execution_count": 17,
   "metadata": {},
   "outputs": [],
   "source": [
    "nouns = [token.text\n",
    "         for token in doc\n",
    "         if (not token.is_stop and\n",
    "             not token.is_punct and\n",
    "             token.pos_ == \"NOUN\")]"
   ]
  },
  {
   "cell_type": "code",
   "execution_count": 18,
   "metadata": {},
   "outputs": [],
   "source": [
    "vocab = set(words)"
   ]
  },
  {
   "cell_type": "code",
   "execution_count": 19,
   "metadata": {},
   "outputs": [],
   "source": [
    "# most common tokens\n",
    "word_freq = Counter(words)\n",
    "common_words = word_freq.most_common(15)\n",
    "\n",
    "# most common noun tokens\n",
    "noun_freq = Counter(nouns)\n",
    "common_nouns = noun_freq.most_common(15)\n",
    "\n",
    "# vocabulary size\n",
    "vocab_size = len(vocab)"
   ]
  },
  {
   "cell_type": "code",
   "execution_count": 20,
   "metadata": {},
   "outputs": [
    {
     "data": {
      "text/plain": [
       "[('B.', 37),\n",
       " ('Tonart', 30),\n",
       " ('Herr', 25),\n",
       " ('Schrift', 22),\n",
       " ('S.', 22),\n",
       " ('Kritiker', 21),\n",
       " ('Töne', 20),\n",
       " ('C', 18),\n",
       " ('h', 17),\n",
       " ('f', 17),\n",
       " ('dur', 17),\n",
       " ('Quinten', 14),\n",
       " ('Beispiele', 14),\n",
       " ('Theorie', 13),\n",
       " ('G', 13)]"
      ]
     },
     "execution_count": 20,
     "metadata": {},
     "output_type": "execute_result"
    }
   ],
   "source": [
    "common_words"
   ]
  },
  {
   "cell_type": "code",
   "execution_count": 21,
   "metadata": {
    "scrolled": true
   },
   "outputs": [
    {
     "data": {
      "text/plain": [
       "[('Tonart', 30),\n",
       " ('Herr', 25),\n",
       " ('Schrift', 22),\n",
       " ('Kritiker', 21),\n",
       " ('Töne', 20),\n",
       " ('S.', 19),\n",
       " ('B.', 16),\n",
       " ('Quinten', 14),\n",
       " ('Beispiele', 14),\n",
       " ('Theorie', 13),\n",
       " ('Herrn', 12),\n",
       " ('Lehre', 11),\n",
       " ('Bedeutung', 11),\n",
       " ('Tonarten', 10),\n",
       " ('Weise', 9)]"
      ]
     },
     "execution_count": 21,
     "metadata": {},
     "output_type": "execute_result"
    }
   ],
   "source": [
    "common_nouns"
   ]
  },
  {
   "cell_type": "code",
   "execution_count": 32,
   "metadata": {},
   "outputs": [
    {
     "name": "stderr",
     "output_type": "stream",
     "text": [
      "/home/fmoss/miniconda3/lib/python3.8/site-packages/ipykernel/ipkernel.py:283: DeprecationWarning: `should_run_async` will not call `transform_cell` automatically in the future. Please pass the result to `transformed_cell` argument and any exception that happen during thetransform in `preprocessing_exc_tuple` in IPython 7.17 and above.\n",
      "  and should_run_async(code)\n"
     ]
    },
    {
     "data": {
      "text/plain": [
       "1731"
      ]
     },
     "execution_count": 32,
     "metadata": {},
     "output_type": "execute_result"
    }
   ],
   "source": [
    "vocab_size"
   ]
  },
  {
   "cell_type": "code",
   "execution_count": null,
   "metadata": {},
   "outputs": [],
   "source": []
  },
  {
   "cell_type": "code",
   "execution_count": 23,
   "metadata": {},
   "outputs": [
    {
     "data": {
      "text/plain": [
       "3217"
      ]
     },
     "execution_count": 23,
     "metadata": {},
     "output_type": "execute_result"
    }
   ],
   "source": [
    "len(words)"
   ]
  },
  {
   "cell_type": "code",
   "execution_count": 36,
   "metadata": {},
   "outputs": [
    {
     "name": "stderr",
     "output_type": "stream",
     "text": [
      "/home/fmoss/miniconda3/lib/python3.8/site-packages/ipykernel/ipkernel.py:283: DeprecationWarning: `should_run_async` will not call `transform_cell` automatically in the future. Please pass the result to `transformed_cell` argument and any exception that happen during thetransform in `preprocessing_exc_tuple` in IPython 7.17 and above.\n",
      "  and should_run_async(code)\n"
     ]
    }
   ],
   "source": [
    "mdl = tp.LDAModel(k=5)"
   ]
  },
  {
   "cell_type": "code",
   "execution_count": 37,
   "metadata": {},
   "outputs": [
    {
     "name": "stderr",
     "output_type": "stream",
     "text": [
      "/home/fmoss/miniconda3/lib/python3.8/site-packages/ipykernel/ipkernel.py:283: DeprecationWarning: `should_run_async` will not call `transform_cell` automatically in the future. Please pass the result to `transformed_cell` argument and any exception that happen during thetransform in `preprocessing_exc_tuple` in IPython 7.17 and above.\n",
      "  and should_run_async(code)\n"
     ]
    }
   ],
   "source": [
    "for txt in texts.values():\n",
    "    words = [token.text\n",
    "         for token in txt\n",
    "         if not token.is_stop and not token.is_punct and not token.is_space]\n",
    "    for i in range(0,len(words),100):\n",
    "        mdl.add_doc(words[i: i+100])"
   ]
  },
  {
   "cell_type": "code",
   "execution_count": 38,
   "metadata": {},
   "outputs": [
    {
     "name": "stderr",
     "output_type": "stream",
     "text": [
      "/home/fmoss/miniconda3/lib/python3.8/site-packages/ipykernel/ipkernel.py:283: DeprecationWarning: `should_run_async` will not call `transform_cell` automatically in the future. Please pass the result to `transformed_cell` argument and any exception that happen during thetransform in `preprocessing_exc_tuple` in IPython 7.17 and above.\n",
      "  and should_run_async(code)\n"
     ]
    }
   ],
   "source": [
    "mdl.train(500)"
   ]
  },
  {
   "cell_type": "code",
   "execution_count": 39,
   "metadata": {
    "scrolled": true
   },
   "outputs": [
    {
     "name": "stdout",
     "output_type": "stream",
     "text": [
      "Top 10 words of topic #0\n",
      "[('c', 0.025841038674116135), ('g', 0.019220715388655663), ('e', 0.01704241707921028), ('d', 0.01631631702184677), ('1', 0.01477869413793087), ('f', 0.013540052808821201), ('h', 0.010251247324049473), ('2', 0.008371930569410324), ('Töne', 0.008371930569410324), ('Klänge', 0.007560407277196646)]\n",
      "Top 10 words of topic #1\n",
      "[('Folge', 0.011972772888839245), ('Quint', 0.011751743964850903), ('Terz', 0.011714905500411987), ('Tonart', 0.010278216563165188), ('Grundton', 0.009799321182072163), ('C', 0.009541453793644905), ('Auflösung', 0.008399469777941704), ('D', 0.008178440853953362), ('Dissonanz', 0.008031087927520275), ('Dreiklang', 0.007883735932409763)]\n",
      "Top 10 words of topic #2\n",
      "[('B.', 0.005267530679702759), ('Verfasser', 0.0048553249798715115), ('Fig', 0.004351518116891384), ('z.', 0.004305717535316944), ('Seite', 0.004214116372168064), ('2c', 0.004030913580209017), ('Beispiele', 0.003939312417060137), ('Theorie', 0.003893511835485697), ('Accorde', 0.003847711253911257), ('Tonart', 0.003343904158100486)]\n",
      "Top 10 words of topic #3\n",
      "[('Einheit', 0.0110718859359622), ('Bestimmung', 0.01044413074851036), ('Metrum', 0.007476561702787876), ('Ordnung', 0.0074194930493831635), ('Bedeutung', 0.007077081594616175), ('metrischen', 0.006791738327592611), ('Glied', 0.006677601020783186), ('Form', 0.0059357089921832085), ('metrische', 0.0057645030319690704), ('Bestimmungen', 0.005136747844517231)]\n",
      "Top 10 words of topic #4\n",
      "[('$', 0.04301069676876068), ('MATH', 0.01492809597402811), ('Töne', 0.009330234490334988), ('S.', 0.008537204004824162), ('C', 0.008210661821067333), ('Terz', 0.007370983250439167), ('Intervalle', 0.006484655197709799), ('=', 0.005831571761518717), ('GRAPHIC', 0.005551678594201803), ('Riemann', 0.004898594692349434)]\n"
     ]
    },
    {
     "name": "stderr",
     "output_type": "stream",
     "text": [
      "/home/fmoss/miniconda3/lib/python3.8/site-packages/ipykernel/ipkernel.py:283: DeprecationWarning: `should_run_async` will not call `transform_cell` automatically in the future. Please pass the result to `transformed_cell` argument and any exception that happen during thetransform in `preprocessing_exc_tuple` in IPython 7.17 and above.\n",
      "  and should_run_async(code)\n"
     ]
    }
   ],
   "source": [
    "for k in range(mdl.k):\n",
    "    print('Top 10 words of topic #{}'.format(k))\n",
    "    print(mdl.get_topic_words(k, top_n=10))"
   ]
  },
  {
   "cell_type": "code",
   "execution_count": 40,
   "metadata": {},
   "outputs": [
    {
     "name": "stderr",
     "output_type": "stream",
     "text": [
      "/home/fmoss/miniconda3/lib/python3.8/site-packages/ipykernel/ipkernel.py:283: DeprecationWarning: `should_run_async` will not call `transform_cell` automatically in the future. Please pass the result to `transformed_cell` argument and any exception that happen during thetransform in `preprocessing_exc_tuple` in IPython 7.17 and above.\n",
      "  and should_run_async(code)\n"
     ]
    }
   ],
   "source": [
    "import pyLDAvis\n",
    "import numpy as np \n",
    "\n",
    "topic_term_dists = np.stack([mdl.get_topic_word_dist(k) for k in range(mdl.k)])\n",
    "doc_topic_dists = np.stack([doc.get_topic_dist() for doc in mdl.docs])\n",
    "doc_lengths = np.array([len(doc.words) for doc in mdl.docs])\n",
    "vocab = list(mdl.used_vocabs)\n",
    "term_frequency = mdl.used_vocab_freq\n",
    "\n",
    "prepared_data = pyLDAvis.prepare(\n",
    "    topic_term_dists,\n",
    "    doc_topic_dists,\n",
    "    doc_lengths,\n",
    "    vocab,\n",
    "    term_frequency,\n",
    "    sort_topics=False,\n",
    "    start_index=0,\n",
    ")\n",
    "\n"
   ]
  },
  {
   "cell_type": "code",
   "execution_count": 62,
   "metadata": {},
   "outputs": [
    {
     "name": "stderr",
     "output_type": "stream",
     "text": [
      "/home/fmoss/miniconda3/lib/python3.8/site-packages/ipykernel/ipkernel.py:283: DeprecationWarning: `should_run_async` will not call `transform_cell` automatically in the future. Please pass the result to `transformed_cell` argument and any exception that happen during thetransform in `preprocessing_exc_tuple` in IPython 7.17 and above.\n",
      "  and should_run_async(code)\n"
     ]
    }
   ],
   "source": [
    "from sklearn.decomposition import PCA\n",
    "from sklearn.manifold import MDS\n",
    "# pca = PCA(n_components=2)\n",
    "pca = MDS(n_components=2)\n",
    "X = pca.fit_transform(topic_term_dists)"
   ]
  },
  {
   "cell_type": "code",
   "execution_count": 63,
   "metadata": {},
   "outputs": [
    {
     "name": "stderr",
     "output_type": "stream",
     "text": [
      "/home/fmoss/miniconda3/lib/python3.8/site-packages/ipykernel/ipkernel.py:283: DeprecationWarning: `should_run_async` will not call `transform_cell` automatically in the future. Please pass the result to `transformed_cell` argument and any exception that happen during thetransform in `preprocessing_exc_tuple` in IPython 7.17 and above.\n",
      "  and should_run_async(code)\n"
     ]
    },
    {
     "data": {
      "text/plain": [
       "<matplotlib.collections.PathCollection at 0x7fc3c91843d0>"
      ]
     },
     "execution_count": 63,
     "metadata": {},
     "output_type": "execute_result"
    },
    {
     "data": {
      "image/png": "[encoded data removed]",
      "text/plain": [
       "<Figure size 432x288 with 1 Axes>"
      ]
     },
     "metadata": {
      "needs_background": "light"
     },
     "output_type": "display_data"
    }
   ],
   "source": [
    "import matplotlib.pyplot as plt\n",
    "\n",
    "plt.scatter(X[:,0], X[:,1])"
   ]
  },
  {
   "cell_type": "markdown",
   "metadata": {},
   "source": [
    "- 2 Figures\n",
    "    1. PCA/MDS of document vectors (TF-IDF)\n",
    "    2. PCA/MDS of topic-term dists \n",
    "    3. Table of top 10 words for topics"
   ]
  },
  {
   "cell_type": "code",
   "execution_count": 45,
   "metadata": {},
   "outputs": [
    {
     "name": "stderr",
     "output_type": "stream",
     "text": [
      "/home/fmoss/miniconda3/lib/python3.8/site-packages/ipykernel/ipkernel.py:283: DeprecationWarning: `should_run_async` will not call `transform_cell` automatically in the future. Please pass the result to `transformed_cell` argument and any exception that happen during thetransform in `preprocessing_exc_tuple` in IPython 7.17 and above.\n",
      "  and should_run_async(code)\n"
     ]
    }
   ],
   "source": [
    "pyLDAvis.save_html(prepared_data, \"ldavis.html\")"
   ]
  },
  {
   "cell_type": "code",
   "execution_count": 42,
   "metadata": {},
   "outputs": [
    {
     "name": "stderr",
     "output_type": "stream",
     "text": [
      "/home/fmoss/miniconda3/lib/python3.8/site-packages/ipykernel/ipkernel.py:283: DeprecationWarning: `should_run_async` will not call `transform_cell` automatically in the future. Please pass the result to `transformed_cell` argument and any exception that happen during thetransform in `preprocessing_exc_tuple` in IPython 7.17 and above.\n",
      "  and should_run_async(code)\n"
     ]
    }
   ],
   "source": [
    "pyLDAvis.enable_notebook()"
   ]
  },
  {
   "cell_type": "code",
   "execution_count": 43,
   "metadata": {},
   "outputs": [
    {
     "name": "stderr",
     "output_type": "stream",
     "text": [
      "/home/fmoss/miniconda3/lib/python3.8/site-packages/ipykernel/ipkernel.py:283: DeprecationWarning: `should_run_async` will not call `transform_cell` automatically in the future. Please pass the result to `transformed_cell` argument and any exception that happen during thetransform in `preprocessing_exc_tuple` in IPython 7.17 and above.\n",
      "  and should_run_async(code)\n"
     ]
    },
    {
     "data": {
      "text/html": [
       "\n",
       "<link rel=\"stylesheet\" type=\"text/css\" href=\"https://cdn.jsdelivr.net/gh/bmabey/pyLDAvis@3.3.1/pyLDAvis/js/ldavis.v1.0.0.css\">\n",
       "\n",
       "\n",
       "<div id=\"ldavis_el444621404839591311523868957589\"></div>\n",
       "<script type=\"text/javascript\">\n",
       "\n",
       "var ldavis_el444621404839591311523868957589_data = {\"mdsDat\": {\"x\": [-0.07994950177235004, 0.16123266997480623, -0.1960883430511388, 0.3013796327027544, -0.18657445785407153], \"y\": [-0.334672829787967, -0.0013033563382805896, 0.022773805371336327, 0.07450385287427395, 0.23869852788063714], \"topics\": [0, 1, 2, 3, 4], \"cluster\": [1, 1, 1, 1, 1], \"Freq\": [21.054044240915573, 24.45591609243682, 19.58792824068351, 15.69158060561774, 19.210530820346357]}, \"tinfo\": {\"Term\": [\"$\", \"c\", \"g\", \"d\", \"e\", \"MATH\", \"1\", \"f\", \"Terz\", \"Folge\", \"Quint\", \"C\", \"Einheit\", \"h\", \"Aufl\\u00f6sung\", \"Tonart\", \"Bestimmung\", \"D\", \"Grundton\", \"F\", \"Dreikl\\u00e4nge\", \"Kl\\u00e4nge\", \"S.\", \"Dreiklang\", \"Dissonanz\", \"=\", \"G\", \"Metrum\", \"Ordnung\", \"2\", \"c\", \"g\", \"d\", \"f\", \"Kl\\u00e4nge\", \"phon\", \"phonischen\", \"cis\", \"ton\", \"c.\", \"phonische\", \"l.\", \"Phonica\", \"+\", \"Leitton\", \"c+\", \"Prinzip\", \"sub\", \"Deutung\", \"Unterdominante\", \"f+\", \"Dominante\", \"Klangfolge\", \"g+\", \"ges\", \"dis\", \"d+\", \"Bestandtheile\", \"Klangbedeutung\", \"Systemen\", \"1\", \"Klang\", \"pag\", \"2\", \"e\", \"3\", \"b\", \"Verwandtschaft\", \"fis\", \"h\", \"gis\", \"Helmholtz\", \"Systeme\", \"=\", \"T\\u00f6ne\", \"Ton\", \"Hauptmann\", \"as\", \"System\", \"folgende\", \"tonischen\", \"Tonica\", \"Aufl\\u00f6sung\", \"D\", \"F\", \"Dreikl\\u00e4nge\", \"Septimenaccorde\", \"Fortschreitung\", \"Dreiklange\", \"verminderten\", \"Dreiklanges\", \"C-e-G\", \"Molltonart\", \"Septimenaccord\", \"Accordes\", \"Grundtone\", \"Uebergang\", \"Durtonart\", \"Stimme\", \"bildet\", \"verminderte\", \"melodische\", \"B\", \"chromatische\", \"Dreikl\\u00e4ngen\", \"Septimenaccordes\", \"melodisch\", \"C-Durtonart\", \"Oberdominantseite\", \"Unterdominantseite\", \"Oberdominant\", \"Vorhalt\", \"Zusammenklang\", \"Stufe\", \"Dreiklang\", \"Quint\", \"G\", \"Dissonanz\", \"Folge\", \"Tonart\", \"Grundton\", \"Septime\", \"Terz\", \"tonischen\", \"C\", \"Accorde\", \"Bedeutung\", \"Ton\", \"Accord\", \"enthalten\", \"T\\u00f6ne\", \"h\", \"e\", \"Verbindung\", \"Verfasser\", \"2c\", \"Lehre\", \"Harmoniesystem\", \"Weitzmann\", \"Tonkunst\", \"Musiktheorie\", \"fast\", \"de\", \"Schrift\", \"Beispielen\", \"l\\u00e4\\u00dft\", \"F.\", \"Harmonik\", \"Werke\", \"dur-\", \"Leipzig\", \"la\", \"i\", \"Tonsystem\", \"Herr\", \"Regeln\", \"k\", \"\\u00fcberm\\u00e4\\u00dfigen\", \"C-dur\", \"gebracht\", \"Verz\\u00f6gerung\", \"\\u00fcberm\\u00e4\\u00dfige\", \"mehrere\", \"neueren\", \"alten\", \"\\u00e4lteren\", \"Harmonieen\", \"Beispiele\", \"Dissonanzen\", \"Seite\", \"Fig\", \"Theorie\", \"Zusammenhang\", \"Erkl\\u00e4rung\", \"Harmonielehre\", \"B.\", \"z.\", \"Harmonie\", \"Quinten\", \"geben\", \"Accorde\", \"folgenden\", \"Quinte\", \"Tonarten\", \"Tonart\", \"unten\", \"lassen\", \"T\\u00f6ne\", \"chromatischen\", \"Musik\", \"finden\", \"Metrum\", \"Ordnung\", \"metrischen\", \"Glied\", \"metrische\", \"Formation\", \"metrisch\", \"Begriff\", \"K\\u00fcrze\", \"H\\u00e4lfte\", \"Glieder\", \"Accent\", \"Gliederung\", \"Gliedes\", \"vierzeitigen\", \"L\\u00e4nge\", \"Zweiheit\", \"dreizeitigen\", \"Paare\", \"positiven\", \"negative\", \"Metrums\", \"Gliede\", \"setzt\", \"doppel-zweizeitigen\", \"Inhalt\", \"rhythmische\", \"Daktylus\", \"rhythmischen\", \"Betonung\", \"Einheit\", \"Bestimmung\", \"positive\", \"Momente\", \"Moment\", \"Form\", \"Begriffe\", \"Bestimmungen\", \"l\\u00e4sst\", \"Bedeutung\", \"Anfang\", \"enthalten\", \"Folge\", \"lassen\", \"erhalten\", \"Quint\", \"enth\\u00e4lt\", \"$\", \"MATH\", \"GRAPHIC\", \"Riemann\", \"Obert\\u00f6ne\", \"III\", \"Sexte\", \"Temperatur\", \"Konsonanz\", \"Zahlen\", \"etc.\", \"gr\", \"akustischen\", \"Tonika\", \"R.\", \"kl\", \"H.\", \"Quarte\", \"Akkord\", \"Prim\", \"\\u266d\", \"Akustik\", \"w.\", \"Stumpf\", \"Intervallen\", \"Annahme\", \"IV\", \"Mollklang\", \"eigentlich\", \"Praxis\", \"Octave\", \"S.\", \"Schwingungszahlen\", \"Moll\", \"Intervalle\", \"Tonverh\\u00e4ltnisse\", \"reinen\", \"reine\", \"II\", \"Dur\", \"C\", \"=\", \"T\\u00f6ne\", \"Terz\", \"Quinte\", \"Grundton\", \"Fig\", \"Reihe\", \"z.\", \"Ton\", \"Musik\"], \"Freq\": [912.0, 600.0, 446.0, 379.0, 539.0, 316.0, 363.0, 314.0, 472.0, 404.0, 370.0, 431.0, 196.0, 397.0, 226.0, 349.0, 208.0, 220.0, 345.0, 203.0, 198.0, 175.0, 215.0, 238.0, 254.0, 266.0, 243.0, 129.0, 128.0, 232.0, 600.4935251348866, 446.65058881356975, 379.15823931184326, 314.64346863989465, 175.68858878287904, 139.9573290157482, 107.203691362505, 104.22608006964477, 103.23355379305211, 74.45003747772068, 70.4798999082678, 68.49483112354135, 66.5097623388149, 65.51722524119482, 62.539619358848306, 62.539619358848306, 61.547082261228226, 54.599338809428815, 52.61427002470237, 51.62173292708229, 47.651595357629404, 45.66652657290296, 41.69638629819322, 41.69638629819322, 41.69638629819322, 40.70385190582999, 40.70385190582999, 39.711317513466774, 38.71878312110355, 38.71878312110355, 343.4269903657398, 98.27087912597915, 117.12904069665093, 194.54675035355083, 396.0313375083023, 162.78562815587287, 134.00211725105515, 132.01705387684243, 124.07677873793664, 238.21827443856003, 78.42018045768728, 103.23355379305211, 100.25594250019188, 142.934929487581, 194.54675035355083, 156.83042721220724, 85.36792390948669, 81.3977809295201, 83.38285512476024, 80.40524924241372, 88.3455243813195, 80.40524924241372, 226.7245973074032, 220.75842383343593, 203.85426146737262, 198.88244604924384, 151.15304568803757, 147.1756008952154, 144.1925141582318, 129.27706790384548, 123.31090699934634, 120.32782026236272, 115.35600484423394, 115.35600484423394, 113.3672761630888, 107.40110268912153, 102.42928727099276, 95.46874945645293, 86.51948924550202, 80.55331577153476, 78.56458709038961, 78.56458709038961, 78.56458709038961, 73.59277795699491, 72.59841361642235, 71.60404927584977, 58.67733170260859, 56.68860930619753, 55.694244965624954, 53.70552256921389, 53.70552256921389, 51.71679388806875, 73.59277795699491, 93.48002706004186, 212.80353424779167, 317.21162032009147, 209.8204349413399, 216.78096647114566, 323.17779379405874, 277.4370969750613, 264.5104045407564, 184.96137042016417, 316.2172496947848, 194.9050012564217, 257.5498604414825, 185.95574104547083, 208.8260768855014, 208.8260768855014, 140.2150567959415, 133.25452526613574, 203.85426146737262, 159.10794784314996, 143.19814353292514, 119.33344963705608, 104.9710737862659, 87.14747799752416, 60.412084314411544, 60.412084314411544, 58.43168701955048, 54.470887396080315, 50.51008777261014, 48.529685444001025, 47.53948679657049, 45.55908950170944, 42.588488525669796, 42.588488525669796, 42.588488525669796, 38.62769141907365, 38.62769141907365, 38.62769141907365, 37.63749025476909, 37.63749025476909, 36.647291607338566, 35.65709044303401, 35.65709044303401, 35.65709044303401, 35.65709044303401, 34.666891795603476, 34.666891795603476, 33.67669063129892, 33.67669063129892, 33.67669063129892, 32.68649198386839, 32.68649198386839, 65.3630876190603, 42.588488525669796, 51.500286420040666, 85.1670807026631, 65.3630876190603, 91.1082826547424, 94.07887859703398, 84.17688205523258, 44.568890854278905, 62.3924816092726, 52.4904850674712, 113.88287168063678, 93.08867994960345, 71.30428453739152, 54.470887396080315, 48.529685444001025, 83.18668340780205, 62.3924816092726, 67.34348491392136, 63.382685290451185, 72.29448318482206, 52.4904850674712, 65.3630876190603, 60.412084314411544, 49.51988912517961, 51.500286420040666, 49.51988912517961, 129.48857323216845, 128.50018594942833, 117.62793390419944, 115.65115933871918, 99.83697087978969, 81.05762057263982, 77.10407144167932, 72.1621350279787, 65.24342808125408, 64.25504079851396, 59.31310035235711, 58.32471306961699, 55.35955122139662, 53.382780688372605, 53.382780688372605, 53.382780688372605, 51.406006122892364, 50.41761884015224, 48.440844274671996, 45.47568242645163, 43.49890786097138, 43.49890786097138, 42.51052057823126, 40.53375004520724, 40.53375004520724, 38.556975479727, 37.56858819698687, 37.56858819698687, 36.58020091424675, 35.59181363150663, 191.75695591497126, 180.8846958048299, 68.20858589701822, 72.1621350279787, 68.20858589701822, 102.80213272801005, 59.31310035235711, 88.96471076964833, 78.09245872441944, 122.56987031790005, 50.41761884015224, 74.13890959345896, 80.0692332898997, 69.19697317975834, 60.30148763509724, 53.382780688372605, 53.382780688372605, 911.9660587690189, 316.52397829202494, 117.7135649377305, 103.86607124982577, 84.08394587298527, 72.21466768482277, 69.24734690359124, 67.26913634061265, 62.32360005963887, 59.356279278407335, 58.36717399691804, 58.36717399691804, 55.399853215686505, 53.42164265270792, 51.443427152965675, 51.443427152965675, 41.55236446454543, 40.56325671467431, 39.574148964803186, 37.595935933442775, 37.595935933442775, 36.60683065195348, 31.661296839361526, 31.661296839361526, 29.683086276382937, 29.683086276382937, 29.683086276382937, 29.683086276382937, 28.693980994893643, 28.693980994893643, 88.04036699894245, 181.01637206773648, 74.19287824780136, 93.97500856140552, 137.495690314571, 36.60683065195348, 97.93143956089, 53.42164265270792, 69.24734690359124, 66.28003105912336, 174.09262028702045, 123.64820650019357, 197.83118653687274, 156.28871534668585, 78.1493043105222, 81.11662509175373, 64.30181555938111, 64.30181555938111, 66.28003105912336, 67.26913634061265, 59.356279278407335], \"Total\": [912.0, 600.0, 446.0, 379.0, 539.0, 316.0, 363.0, 314.0, 472.0, 404.0, 370.0, 431.0, 196.0, 397.0, 226.0, 349.0, 208.0, 220.0, 345.0, 203.0, 198.0, 175.0, 215.0, 238.0, 254.0, 266.0, 243.0, 129.0, 128.0, 232.0, 600.5331456908851, 446.69020936956827, 379.19785986784177, 314.68308919589316, 175.72820933887755, 139.9969495717467, 107.24331191850354, 104.2657006256433, 103.27317434905065, 74.48965803371922, 70.51952046426634, 68.53445167953988, 66.54938289481343, 65.55684579719336, 62.579239914846845, 62.579239914846845, 61.586702817226765, 54.638959365427354, 52.65389058070091, 51.66135348308083, 47.69121591362794, 45.7061471289015, 41.73600685419176, 41.73600685419176, 41.73600685419176, 40.74347246182853, 40.74347246182853, 39.75093806946531, 38.75840367710209, 38.75840367710209, 363.3538619910662, 101.27781927903679, 123.10330070529692, 232.26177304683964, 539.2591579718337, 199.4626383223142, 169.62438677517744, 171.75624621521746, 159.9134515311208, 397.35589921231616, 95.29319628208883, 147.782963593558, 142.054627332448, 266.61286547926716, 656.6541665414122, 432.9454263044215, 121.0547329116235, 121.21190165789346, 144.9047570764657, 129.98815865878208, 283.2802025683474, 146.0728019749024, 226.76419958631848, 220.7980261123512, 203.8938637462879, 198.92204832815912, 151.19264796695285, 147.2152031741307, 144.23211643714708, 129.31667018276076, 123.35050927826164, 120.36742254127802, 115.39560712314923, 115.39560712314923, 113.4068784420041, 107.44070496803683, 102.46888954990806, 95.50835173536822, 86.55909152441731, 80.59291805045005, 78.6041893693049, 78.6041893693049, 78.6041893693049, 73.6323802359102, 72.63801589533765, 71.64365155476507, 58.71693398152389, 56.728211585112824, 55.73384724454025, 53.74512484812919, 53.74512484812919, 51.75639616698405, 74.62148672447195, 97.48976883828323, 238.58833094791785, 370.6241194181748, 243.48965602647118, 254.40661361899777, 404.2669452569794, 349.7612804419029, 345.65674084691943, 227.53255138060823, 472.53567625587993, 283.2802025683474, 431.67219194291226, 281.08254309325247, 402.888177270691, 432.9454263044215, 225.50757448976083, 207.4231532693055, 656.6541665414122, 397.35589921231616, 539.2591579718337, 164.83885047321849, 105.01071769367782, 87.18712190493608, 60.45172822182345, 60.45172822182345, 58.47133092696239, 54.51053130349222, 50.54973168002205, 48.56932935141293, 47.5791307039824, 45.598733409121344, 42.6281324330817, 42.6281324330817, 42.6281324330817, 38.667335326485556, 38.667335326485556, 38.667335326485556, 37.677134162181, 37.677134162181, 36.68693551475047, 35.696734350445915, 35.696734350445915, 35.696734350445915, 35.696734350445915, 34.70653570301538, 34.70653570301538, 33.716334538710825, 33.716334538710825, 33.716334538710825, 32.7261358912803, 32.7261358912803, 66.39111849023875, 43.62249500837436, 54.517534758101206, 97.11714296803503, 82.27582319887676, 148.66517183631385, 158.41044699932104, 150.58608197548665, 52.52138724569868, 96.13007657641856, 71.33343739788582, 319.1947078083773, 258.70923388651465, 148.8726735479083, 90.12362043487198, 69.33480972344566, 281.08254309325247, 147.73390338797083, 187.2090030172336, 198.58618438524314, 349.7612804419029, 101.11976531064447, 252.91896879285127, 656.6541665414122, 89.33403320496636, 191.10327592555507, 221.2608084419434, 129.52823526727158, 128.53984798453146, 117.6675959393026, 115.69082137382235, 99.87663291489285, 81.09728260774298, 77.14373347678249, 72.20179706308187, 65.28309011635724, 64.29470283361712, 59.35276238746027, 58.364375104720146, 55.39921325649978, 53.42244272347576, 53.42244272347576, 53.42244272347576, 51.44566815799552, 50.45728087525539, 48.48050630977515, 45.51534446155478, 43.538569896074534, 43.538569896074534, 42.550182613334414, 40.5734120803104, 40.5734120803104, 38.59663751483016, 37.60825023209003, 37.60825023209003, 36.61986294934991, 35.63147566660979, 196.76843101372944, 208.76651106437333, 73.22006099577642, 78.16797250333008, 79.18623643372308, 144.56297394552865, 69.26724883533674, 127.57952542355943, 136.76661268986618, 402.888177270691, 61.395269376857094, 207.4231532693055, 404.2669452569794, 252.91896879285127, 149.75335619352006, 370.6241194181748, 123.02782597752213, 912.0057136088205, 316.56363313182663, 117.75321977753218, 103.90572608962745, 84.12360071278695, 72.25432252462446, 69.28700174339292, 67.30879118041433, 62.363254899440555, 59.39593411820902, 58.406828836719725, 58.406828836719725, 55.43950805548819, 53.4612974925096, 51.48308199276736, 51.48308199276736, 41.59201930434711, 40.602911554475995, 39.61380380460487, 37.63559077324446, 37.63559077324446, 36.646485491755165, 31.700951679163214, 31.700951679163214, 29.722741116184626, 29.722741116184626, 29.722741116184626, 29.722741116184626, 28.73363583469533, 28.73363583469533, 92.04082116235236, 215.71301670624592, 84.1578813082082, 113.83033434615854, 206.14636406784646, 38.631555191883464, 138.66502095821258, 63.38664571311475, 91.12276808287045, 91.11671204292286, 431.67219194291226, 266.61286547926716, 656.6541665414122, 472.53567625587993, 187.2090030172336, 345.65674084691943, 158.41044699932104, 180.39506243538398, 258.70923388651465, 432.9454263044215, 191.10327592555507], \"Category\": [\"Default\", \"Default\", \"Default\", \"Default\", \"Default\", \"Default\", \"Default\", \"Default\", \"Default\", \"Default\", \"Default\", \"Default\", \"Default\", \"Default\", \"Default\", \"Default\", \"Default\", \"Default\", \"Default\", \"Default\", \"Default\", \"Default\", \"Default\", \"Default\", \"Default\", \"Default\", \"Default\", \"Default\", \"Default\", \"Default\", \"Topic0\", \"Topic0\", \"Topic0\", \"Topic0\", \"Topic0\", \"Topic0\", \"Topic0\", \"Topic0\", \"Topic0\", \"Topic0\", \"Topic0\", \"Topic0\", \"Topic0\", \"Topic0\", \"Topic0\", \"Topic0\", \"Topic0\", \"Topic0\", \"Topic0\", \"Topic0\", \"Topic0\", \"Topic0\", \"Topic0\", \"Topic0\", \"Topic0\", \"Topic0\", \"Topic0\", \"Topic0\", \"Topic0\", \"Topic0\", \"Topic0\", \"Topic0\", \"Topic0\", \"Topic0\", \"Topic0\", \"Topic0\", \"Topic0\", \"Topic0\", \"Topic0\", \"Topic0\", \"Topic0\", \"Topic0\", \"Topic0\", \"Topic0\", \"Topic0\", \"Topic0\", \"Topic0\", \"Topic0\", \"Topic0\", \"Topic0\", \"Topic0\", \"Topic0\", \"Topic1\", \"Topic1\", \"Topic1\", \"Topic1\", \"Topic1\", \"Topic1\", \"Topic1\", \"Topic1\", \"Topic1\", \"Topic1\", \"Topic1\", \"Topic1\", \"Topic1\", \"Topic1\", \"Topic1\", \"Topic1\", \"Topic1\", \"Topic1\", \"Topic1\", \"Topic1\", \"Topic1\", \"Topic1\", \"Topic1\", \"Topic1\", \"Topic1\", \"Topic1\", \"Topic1\", \"Topic1\", \"Topic1\", \"Topic1\", \"Topic1\", \"Topic1\", \"Topic1\", \"Topic1\", \"Topic1\", \"Topic1\", \"Topic1\", \"Topic1\", \"Topic1\", \"Topic1\", \"Topic1\", \"Topic1\", \"Topic1\", \"Topic1\", \"Topic1\", \"Topic1\", \"Topic1\", \"Topic1\", \"Topic1\", \"Topic1\", \"Topic1\", \"Topic1\", \"Topic2\", \"Topic2\", \"Topic2\", \"Topic2\", \"Topic2\", \"Topic2\", \"Topic2\", \"Topic2\", \"Topic2\", \"Topic2\", \"Topic2\", \"Topic2\", \"Topic2\", \"Topic2\", \"Topic2\", \"Topic2\", \"Topic2\", \"Topic2\", \"Topic2\", \"Topic2\", \"Topic2\", \"Topic2\", \"Topic2\", \"Topic2\", \"Topic2\", \"Topic2\", \"Topic2\", \"Topic2\", \"Topic2\", \"Topic2\", \"Topic2\", \"Topic2\", \"Topic2\", \"Topic2\", \"Topic2\", \"Topic2\", \"Topic2\", \"Topic2\", \"Topic2\", \"Topic2\", \"Topic2\", \"Topic2\", \"Topic2\", \"Topic2\", \"Topic2\", \"Topic2\", \"Topic2\", \"Topic2\", \"Topic2\", \"Topic2\", \"Topic2\", \"Topic2\", \"Topic2\", \"Topic2\", \"Topic2\", \"Topic2\", \"Topic2\", \"Topic3\", \"Topic3\", \"Topic3\", \"Topic3\", \"Topic3\", \"Topic3\", \"Topic3\", \"Topic3\", \"Topic3\", \"Topic3\", \"Topic3\", \"Topic3\", \"Topic3\", \"Topic3\", \"Topic3\", \"Topic3\", \"Topic3\", \"Topic3\", \"Topic3\", \"Topic3\", \"Topic3\", \"Topic3\", \"Topic3\", \"Topic3\", \"Topic3\", \"Topic3\", \"Topic3\", \"Topic3\", \"Topic3\", \"Topic3\", \"Topic3\", \"Topic3\", \"Topic3\", \"Topic3\", \"Topic3\", \"Topic3\", \"Topic3\", \"Topic3\", \"Topic3\", \"Topic3\", \"Topic3\", \"Topic3\", \"Topic3\", \"Topic3\", \"Topic3\", \"Topic3\", \"Topic3\", \"Topic4\", \"Topic4\", \"Topic4\", \"Topic4\", \"Topic4\", \"Topic4\", \"Topic4\", \"Topic4\", \"Topic4\", \"Topic4\", \"Topic4\", \"Topic4\", \"Topic4\", \"Topic4\", \"Topic4\", \"Topic4\", \"Topic4\", \"Topic4\", \"Topic4\", \"Topic4\", \"Topic4\", \"Topic4\", \"Topic4\", \"Topic4\", \"Topic4\", \"Topic4\", \"Topic4\", \"Topic4\", \"Topic4\", \"Topic4\", \"Topic4\", \"Topic4\", \"Topic4\", \"Topic4\", \"Topic4\", \"Topic4\", \"Topic4\", \"Topic4\", \"Topic4\", \"Topic4\", \"Topic4\", \"Topic4\", \"Topic4\", \"Topic4\", \"Topic4\", \"Topic4\", \"Topic4\", \"Topic4\", \"Topic4\", \"Topic4\", \"Topic4\"], \"logprob\": [30.0, 29.0, 28.0, 27.0, 26.0, 25.0, 24.0, 23.0, 22.0, 21.0, 20.0, 19.0, 18.0, 17.0, 16.0, 15.0, 14.0, 13.0, 12.0, 11.0, 10.0, 9.0, 8.0, 7.0, 6.0, 5.0, 4.0, 3.0, 2.0, 1.0, -3.6558, -3.9518, -4.1156, -4.3021, -4.8848, -5.1122, -5.3788, -5.407, -5.4165, -5.7434, -5.7982, -5.8268, -5.8562, -5.8712, -5.9177, -5.9177, -5.9337, -6.0535, -6.0906, -6.1096, -6.1896, -6.2322, -6.3231, -6.3231, -6.3231, -6.3472, -6.3472, -6.3719, -6.3972, -6.3972, -4.2146, -5.4658, -5.2903, -4.7829, -4.072, -4.9611, -5.1557, -5.1706, -5.2326, -4.5804, -5.6915, -5.4165, -5.4458, -5.0912, -4.7829, -4.9984, -5.6066, -5.6542, -5.6301, -5.6665, -5.5723, -5.6665, -4.7796, -4.8063, -4.8859, -4.9106, -5.185, -5.2117, -5.2322, -5.3414, -5.3886, -5.4131, -5.4553, -5.4553, -5.4727, -5.5268, -5.5742, -5.6445, -5.743, -5.8144, -5.8394, -5.8394, -5.8394, -5.9048, -5.9184, -5.9322, -6.1313, -6.1657, -6.1834, -6.2198, -6.2198, -6.2575, -5.9048, -5.6656, -4.843, -4.4438, -4.8571, -4.8244, -4.4251, -4.5777, -4.6254, -4.9832, -4.4469, -4.9308, -4.6521, -4.9778, -4.8618, -4.8618, -5.2601, -5.3111, -4.8859, -5.1337, -5.2391, -5.4214, -5.3277, -5.5138, -5.8802, -5.8802, -5.9135, -5.9837, -6.0592, -6.0992, -6.1198, -6.1624, -6.2298, -6.2298, -6.2298, -6.3274, -6.3274, -6.3274, -6.3534, -6.3534, -6.38, -6.4074, -6.4074, -6.4074, -6.4074, -6.4356, -6.4356, -6.4646, -6.4646, -6.4646, -6.4944, -6.4944, -5.8014, -6.2298, -6.0398, -5.5367, -5.8014, -5.4693, -5.4372, -5.5484, -6.1843, -5.8479, -6.0207, -5.2462, -5.4478, -5.7144, -5.9837, -6.0992, -5.5603, -5.8479, -5.7716, -5.8322, -5.7006, -6.0207, -5.8014, -5.8802, -6.079, -6.0398, -6.079, -4.896, -4.9036, -4.992, -5.009, -5.156, -5.3644, -5.4144, -5.4807, -5.5814, -5.5967, -5.6767, -5.6935, -5.7457, -5.7821, -5.7821, -5.7821, -5.8198, -5.8392, -5.8792, -5.9424, -5.9868, -5.9868, -6.0098, -6.0574, -6.0574, -6.1074, -6.1334, -6.1334, -6.1601, -6.1875, -4.5033, -4.5617, -5.537, -5.4807, -5.537, -5.1268, -5.6767, -5.2713, -5.4017, -4.9509, -5.8392, -5.4536, -5.3767, -5.5226, -5.6602, -5.7821, -5.7821, -3.1463, -4.2045, -5.1937, -5.3188, -5.5301, -5.6823, -5.7242, -5.7532, -5.8296, -5.8784, -5.8952, -5.8952, -5.9473, -5.9837, -6.0214, -6.0214, -6.235, -6.259, -6.2837, -6.335, -6.335, -6.3617, -6.5068, -6.5068, -6.5713, -6.5713, -6.5713, -6.5713, -6.6052, -6.6052, -5.4841, -4.7633, -5.6552, -5.4189, -5.0383, -6.3617, -5.3776, -5.9837, -5.7242, -5.768, -4.8023, -5.1445, -4.6745, -4.9102, -5.6033, -5.566, -5.7983, -5.7983, -5.768, -5.7532, -5.8784], \"loglift\": [30.0, 29.0, 28.0, 27.0, 26.0, 25.0, 24.0, 23.0, 22.0, 21.0, 20.0, 19.0, 18.0, 17.0, 16.0, 15.0, 14.0, 13.0, 12.0, 11.0, 10.0, 9.0, 8.0, 7.0, 6.0, 5.0, 4.0, 3.0, 2.0, 1.0, 1.558, 1.558, 1.558, 1.558, 1.5579, 1.5578, 1.5577, 1.5577, 1.5577, 1.5575, 1.5575, 1.5575, 1.5575, 1.5575, 1.5574, 1.5574, 1.5574, 1.5574, 1.5573, 1.5573, 1.5572, 1.5572, 1.5571, 1.5571, 1.5571, 1.5571, 1.5571, 1.5571, 1.5571, 1.5571, 1.5017, 1.5279, 1.5083, 1.3809, 1.2494, 1.3549, 1.3223, 1.2949, 1.3043, 1.0464, 1.3632, 1.1993, 1.2096, 0.9347, 0.3416, 0.5426, 1.2088, 1.1599, 1.0054, 1.0777, 0.3929, 0.9611, 1.4081, 1.4081, 1.4081, 1.4081, 1.408, 1.408, 1.408, 1.408, 1.408, 1.408, 1.408, 1.408, 1.4079, 1.4079, 1.4079, 1.4079, 1.4078, 1.4078, 1.4078, 1.4078, 1.4078, 1.4078, 1.4078, 1.4077, 1.4076, 1.4076, 1.4076, 1.4076, 1.4076, 1.4075, 1.3944, 1.3663, 1.2939, 1.2527, 1.2595, 1.2483, 1.1844, 1.1766, 1.1407, 1.2012, 1.0066, 1.0344, 0.8918, 0.9952, 0.7511, 0.6792, 0.9331, 0.9658, 0.2385, 0.493, 0.0823, 1.0853, 1.6299, 1.6298, 1.6296, 1.6296, 1.6296, 1.6295, 1.6295, 1.6294, 1.6294, 1.6294, 1.6293, 1.6293, 1.6293, 1.6292, 1.6292, 1.6292, 1.6292, 1.6292, 1.6292, 1.6291, 1.6291, 1.6291, 1.6291, 1.6291, 1.6291, 1.6291, 1.6291, 1.6291, 1.629, 1.629, 1.6147, 1.6063, 1.5733, 1.499, 1.4001, 1.1406, 1.1092, 1.0486, 1.4661, 1.198, 1.3235, 0.5996, 0.6081, 0.8941, 1.1267, 1.2735, 0.4127, 0.7683, 0.6078, 0.4882, 0.0538, 0.9746, 0.2771, -0.7557, 1.0402, 0.319, 0.1333, 1.8517, 1.8517, 1.8517, 1.8517, 1.8516, 1.8516, 1.8515, 1.8515, 1.8514, 1.8514, 1.8514, 1.8514, 1.8513, 1.8513, 1.8513, 1.8513, 1.8513, 1.8513, 1.8512, 1.8512, 1.8511, 1.8511, 1.8511, 1.8511, 1.8511, 1.851, 1.851, 1.851, 1.851, 1.8509, 1.8262, 1.7087, 1.7811, 1.7721, 1.7028, 1.5111, 1.6969, 1.4915, 1.2917, 0.6621, 1.6551, 0.8232, 0.2329, 0.5559, 0.9424, -0.0857, 1.0171, 1.6497, 1.6496, 1.6494, 1.6493, 1.6492, 1.6492, 1.6491, 1.6491, 1.6491, 1.649, 1.649, 1.649, 1.649, 1.649, 1.6489, 1.6489, 1.6488, 1.6487, 1.6487, 1.6487, 1.6487, 1.6486, 1.6485, 1.6485, 1.6484, 1.6484, 1.6484, 1.6484, 1.6483, 1.6483, 1.6053, 1.4744, 1.5237, 1.458, 1.2447, 1.5959, 1.3019, 1.4787, 1.3752, 1.3315, 0.7416, 0.8814, 0.45, 0.5433, 0.7761, 0.2002, 0.7481, 0.6182, 0.2879, -0.2122, 0.4805]}, \"token.table\": {\"Topic\": [4, 0, 0, 1, 0, 1, 4, 2, 0, 2, 0, 4, 3, 0, 1, 2, 0, 1, 2, 1, 4, 4, 1, 3, 4, 1, 1, 1, 2, 3, 4, 0, 1, 3, 3, 1, 2, 3, 0, 2, 2, 0, 1, 3, 3, 4, 3, 1, 4, 1, 2, 1, 1, 3, 0, 1, 4, 0, 2, 0, 1, 2, 1, 1, 1, 1, 0, 2, 4, 1, 1, 3, 1, 2, 4, 1, 2, 2, 4, 1, 2, 3, 1, 3, 4, 3, 1, 1, 4, 4, 3, 3, 3, 3, 3, 1, 4, 1, 4, 1, 2, 4, 0, 2, 0, 2, 4, 2, 2, 0, 2, 0, 4, 2, 3, 0, 4, 4, 4, 3, 1, 4, 4, 0, 4, 0, 0, 0, 4, 3, 2, 2, 0, 3, 4, 3, 3, 0, 2, 4, 4, 1, 1, 3, 1, 3, 0, 2, 3, 4, 2, 1, 1, 4, 2, 4, 3, 3, 0, 4, 4, 0, 4, 1, 3, 0, 2, 4, 1, 2, 4, 4, 2, 1, 3, 4, 4, 2, 4, 2, 0, 4, 0, 2, 3, 1, 4, 1, 1, 1, 4, 1, 0, 1, 4, 0, 1, 4, 0, 1, 2, 0, 4, 1, 4, 0, 2, 4, 0, 1, 4, 1, 2, 0, 1, 2, 0, 1, 4, 2, 2, 0, 4, 0, 1, 2, 4, 1, 0, 1, 1, 3, 2, 0, 1, 2, 2, 1, 2, 2, 4, 2, 4, 1, 4, 3, 4, 2, 3, 0, 1, 0, 3, 4, 1, 0, 0, 0, 1, 1, 2, 0, 0, 0, 2, 0, 3, 3, 2, 0, 1, 4, 1, 3, 1, 3, 0, 1, 3, 4, 0, 0, 2, 0, 1, 2, 3, 0, 1, 0, 1, 2, 1, 2, 3, 4, 0, 0, 2, 3, 4, 2, 0, 0, 2, 4, 0, 1, 2, 2, 4, 0, 2, 1, 2, 3, 0, 1, 3, 2, 2, 1, 1, 3, 3, 3, 3, 2, 0, 4, 0, 0, 0, 1, 3, 3, 0, 4, 0, 4, 3, 3, 3, 0, 0, 0, 1, 0, 2, 4, 1, 1, 3, 4, 1, 2, 3, 4, 1, 2, 2, 2, 4], \"Freq\": [0.9999937351172966, 1.0067598463199035, 0.9439833613449617, 0.05504276159445841, 0.8395699276810172, 0.07319327574655023, 0.09041522298103263, 0.9978537896326007, 0.8171956481223628, 0.18549839865354248, 0.5363582126576717, 0.46509383475210697, 0.9937568918699743, 0.1818120747951267, 0.6208217188126277, 0.1995498381897732, 0.042692085634143624, 0.6617273273292262, 0.29528692563616005, 0.9964122243060224, 1.009749030850459, 1.0096466142251042, 0.1791668985517383, 0.8143949934169923, 1.0093281734255795, 1.0010398485039158, 1.0050354902692968, 0.3320857063320585, 0.3571487785080629, 0.1503784330560265, 0.15664420110002758, 0.17622755892461145, 0.518754363594983, 0.305295630249679, 0.9972050963924685, 0.043310511828348344, 0.1010578609328128, 0.8517733992908507, 0.12356211924345488, 0.8752316779744721, 1.0087235247169708, 1.0062655610818403, 0.1341211282271522, 0.8669972931826623, 0.6976040999096306, 0.3056916842300628, 1.0103426626738212, 0.5976757475128719, 0.40308364367147176, 1.0047910626352003, 1.0084555917506661, 0.9969474918252734, 1.0009147449875573, 1.0104165911865717, 1.0065732924097721, 0.8529652469058122, 0.14936718609410538, 0.20662205905746667, 0.7900255199256078, 1.0064291761515092, 0.8927511213718847, 0.108974315284831, 0.99839067440123, 0.9971584286087466, 1.0003918704462176, 1.0049833974703264, 0.1975488315636394, 0.07682454560808198, 0.7243457157333444, 0.99467741065434, 0.025410580214725233, 0.9757662802454489, 0.13523343019149325, 0.6449594362978909, 0.21845400261702755, 1.0005205465812554, 1.0087235247169708, 0.5933952070749657, 0.4040137580084873, 0.7989770219642355, 0.002473613071096704, 0.19788904568773633, 0.23519161976296368, 0.7124922598701546, 0.0553392046501091, 0.9988004208696668, 0.9985381728959328, 0.862459635563203, 0.13963632194832812, 1.0020957407613487, 1.0026724559693343, 1.0105714560793593, 0.9940565127338572, 0.9927938822045828, 0.9920924109430488, 0.7666565372071255, 0.2343365264670836, 0.9958981564001471, 1.009809110076323, 0.4836347617336897, 0.4769176122651662, 0.040302896811140805, 0.05502816686981991, 0.9538215590768784, 0.04205601341298764, 0.7289708991584524, 0.22429873820260074, 0.9925274556226769, 1.0086032479534885, 0.7021617243338565, 0.29738614207080977, 0.6969680232105581, 0.30450059266480695, 1.0084956132562948, 0.9954163745903024, 0.24143252518396255, 0.757220192622428, 0.9964801756387961, 1.0093281734255795, 1.0104507156877294, 0.33471364053401814, 0.6645763587414564, 1.0093281734255795, 0.967635368707872, 0.029621490878812412, 1.0062333919866944, 1.0063253091444644, 1.0015466535631643, 0.9941751773536148, 0.9956636532392588, 0.9925274556226769, 1.0085692780249482, 1.0067236368758345, 0.9920924109430488, 1.0013784491410347, 0.9959218523576607, 0.9876300508408961, 0.043925022523389756, 0.13177506757016927, 0.8257904234397274, 1.0093281734255795, 0.9965717315155069, 0.1389130295288971, 0.858735091633182, 0.07675777953361129, 0.9210933544033356, 0.1988453615771769, 0.27210417900034733, 0.2250092249425949, 0.30873358771193254, 1.0089074324435219, 1.0047422934190036, 1.004775424066671, 0.9985307248888579, 0.0434589777610125, 0.956097510742275, 1.0035798394247666, 0.9900886697283054, 1.0067711688010512, 1.0092701169749998, 1.0096825695908727, 1.006710818470016, 1.0097798022437687, 0.8553140051911441, 0.14300202610451307, 0.22434818477257565, 0.35788877094672783, 0.4166466288633548, 0.01109587026325304, 0.5991769942156642, 0.3883554592138564, 0.9906166846647754, 1.0084956132562948, 0.38249383917985685, 0.26053928176019236, 0.3547768943117513, 1.0009073023587867, 0.16225261013183254, 0.8390777838246197, 1.0087999503687615, 0.11882428412589643, 0.8792997025316336, 0.3094201515513519, 0.6121137780689787, 0.08071830040470049, 0.8130704766305665, 0.1889839486222398, 0.9965717315155069, 0.9987258112775764, 1.0049739012110868, 0.995857783766487, 1.0050937280858396, 0.041029946502747695, 0.9539462561888838, 1.009433417768128, 0.5727900289443307, 0.2070325405822882, 0.22083470995444077, 0.7039545411355852, 0.28862136186558995, 0.0070395454113558525, 1.0062333919866944, 0.9954123202185188, 0.6687325759269968, 0.3301338033057326, 0.19258087878746194, 0.5578204764878207, 0.252347358411157, 0.3626323098967372, 0.4827398265504337, 0.15475391568841654, 0.7919687383635682, 0.20585469011616214, 0.19135268708462966, 0.4884529117686599, 0.3172426127982018, 0.5476721122508846, 0.45182949260697985, 0.9913713749170747, 0.9906342629344448, 1.0084956132562948, 0.051771149001534435, 0.957766256528387, 0.296959967568716, 0.31066581222573364, 0.09137229771345107, 0.3015285824543885, 0.9954240789378352, 1.0065551228159377, 1.0047422934190036, 0.7219171915987975, 0.27299389598273854, 0.9998979371447676, 0.7685310019793906, 0.12808850032989844, 0.10479968208809873, 1.0084132947774465, 1.004706738703947, 0.9919391106805635, 1.0086032479534885, 0.9933339861711572, 0.8567938198107161, 0.15231890129968287, 0.9916714775897364, 0.013400965913374816, 0.9913371101211705, 0.9920722951753415, 0.9790466176519788, 0.01506225565618429, 0.6682512104183722, 0.33000059773746776, 0.7899807483319335, 0.20633825516132592, 0.005895378718895027, 1.0050510883511516, 0.9991122127151337, 1.0067236368758345, 0.9934264964205156, 1.0049926372461677, 0.4477576861242203, 0.5596971076552754, 0.9974516967320127, 0.9994782147032404, 1.0062961628617149, 1.0088456701455113, 1.0062961628617149, 1.010513976957255, 0.9909372667864145, 1.0086032479534885, 0.7343407972696565, 0.26517862123626484, 1.0092701169749998, 0.6412013215676119, 0.35675863004513747, 0.5689769728418138, 0.4307968508659447, 0.29381645338980333, 0.30717174672570347, 0.4006588000770045, 0.9930345672788187, 1.0010070792330044, 1.006474653255461, 1.0088671318780427, 0.253094980508913, 0.3615642578698757, 0.22597766116867232, 0.16722346926481751, 0.7754194460362099, 0.22512177465567385, 0.6154406741770947, 0.06154406741770947, 0.3231063539429747, 0.32490849357675866, 0.4196734708699799, 0.1286096120408003, 0.1286096120408003, 1.0006935245589308, 1.0063253091444644, 0.7067157203639167, 0.11538215842676192, 0.18749600744348813, 1.0084132947774465, 1.0063253091444644, 0.8185264325598108, 0.17839678658354852, 0.9930345672788187, 0.5989592717052661, 0.40014505966864417, 1.00853340517154, 1.0084956132562948, 0.9906166846647754, 0.9922017078061859, 1.0085692780249482, 0.46655259019597606, 0.2569993081588004, 0.2728146501993419, 0.1316110682715894, 0.29978076661862024, 0.5703146291768874, 1.0087235247169708, 1.008368360677518, 1.0048208582989906, 1.0050354902692968, 0.9981368094295598, 1.001235194674737, 1.0028249413786687, 0.9876300508408961, 1.008368360677518, 0.9504213073871357, 0.048739554224981316, 1.0000217892479988, 0.9926329552321674, 0.9977312159224583, 0.06828729629559331, 0.9287072296200691, 0.9886775664855162, 0.1577619368795688, 0.8361382654617147, 0.2956765860393557, 0.7067391568745575, 1.0104165911865717, 1.0103806246128193, 1.010513976957255, 1.0066077509302107, 0.9973548372965921, 0.31064648783131293, 0.6883643764443866, 0.35601348449935954, 0.5142416998324082, 0.12856042495810205, 1.0050354902692968, 0.997551203705499, 0.9920924109430488, 1.009433417768128, 0.30536211952393677, 0.3594769255155205, 0.0811722089873756, 0.25511265681746614, 0.022923952419686828, 0.9857299540465336, 1.0084132947774465, 1.0084555917506661, 1.0096825695908727], \"Term\": [\"$\", \"+\", \"1\", \"1\", \"2\", \"2\", \"2\", \"2c\", \"3\", \"3\", \"=\", \"=\", \"Accent\", \"Accord\", \"Accord\", \"Accord\", \"Accorde\", \"Accorde\", \"Accorde\", \"Accordes\", \"Akkord\", \"Akustik\", \"Anfang\", \"Anfang\", \"Annahme\", \"Aufl\\u00f6sung\", \"B\", \"B.\", \"B.\", \"B.\", \"B.\", \"Bedeutung\", \"Bedeutung\", \"Bedeutung\", \"Begriff\", \"Begriffe\", \"Begriffe\", \"Begriffe\", \"Beispiele\", \"Beispiele\", \"Beispielen\", \"Bestandtheile\", \"Bestimmung\", \"Bestimmung\", \"Bestimmungen\", \"Bestimmungen\", \"Betonung\", \"C\", \"C\", \"C-Durtonart\", \"C-dur\", \"C-e-G\", \"D\", \"Daktylus\", \"Deutung\", \"Dissonanz\", \"Dissonanz\", \"Dissonanzen\", \"Dissonanzen\", \"Dominante\", \"Dreiklang\", \"Dreiklang\", \"Dreiklange\", \"Dreiklanges\", \"Dreikl\\u00e4nge\", \"Dreikl\\u00e4ngen\", \"Dur\", \"Dur\", \"Dur\", \"Durtonart\", \"Einheit\", \"Einheit\", \"Erkl\\u00e4rung\", \"Erkl\\u00e4rung\", \"Erkl\\u00e4rung\", \"F\", \"F.\", \"Fig\", \"Fig\", \"Folge\", \"Folge\", \"Folge\", \"Form\", \"Form\", \"Form\", \"Formation\", \"Fortschreitung\", \"G\", \"G\", \"GRAPHIC\", \"Glied\", \"Gliede\", \"Glieder\", \"Gliederung\", \"Gliedes\", \"Grundton\", \"Grundton\", \"Grundtone\", \"H.\", \"Harmonie\", \"Harmonie\", \"Harmonie\", \"Harmonieen\", \"Harmonieen\", \"Harmonielehre\", \"Harmonielehre\", \"Harmonielehre\", \"Harmoniesystem\", \"Harmonik\", \"Hauptmann\", \"Hauptmann\", \"Helmholtz\", \"Helmholtz\", \"Herr\", \"H\\u00e4lfte\", \"II\", \"II\", \"III\", \"IV\", \"Inhalt\", \"Intervalle\", \"Intervalle\", \"Intervallen\", \"Klang\", \"Klang\", \"Klangbedeutung\", \"Klangfolge\", \"Kl\\u00e4nge\", \"Konsonanz\", \"K\\u00fcrze\", \"Lehre\", \"Leipzig\", \"Leitton\", \"L\\u00e4nge\", \"MATH\", \"Metrum\", \"Metrums\", \"Moll\", \"Moll\", \"Moll\", \"Mollklang\", \"Molltonart\", \"Moment\", \"Moment\", \"Momente\", \"Momente\", \"Musik\", \"Musik\", \"Musik\", \"Musik\", \"Musiktheorie\", \"Oberdominant\", \"Oberdominantseite\", \"Obert\\u00f6ne\", \"Octave\", \"Octave\", \"Ordnung\", \"Paare\", \"Phonica\", \"Praxis\", \"Prim\", \"Prinzip\", \"Quarte\", \"Quint\", \"Quint\", \"Quinte\", \"Quinte\", \"Quinte\", \"Quinten\", \"Quinten\", \"Quinten\", \"R.\", \"Regeln\", \"Reihe\", \"Reihe\", \"Reihe\", \"Riemann\", \"S.\", \"S.\", \"Schrift\", \"Schwingungszahlen\", \"Schwingungszahlen\", \"Seite\", \"Seite\", \"Seite\", \"Septime\", \"Septime\", \"Septimenaccord\", \"Septimenaccorde\", \"Septimenaccordes\", \"Sexte\", \"Stimme\", \"Stufe\", \"Stufe\", \"Stumpf\", \"System\", \"System\", \"System\", \"Systeme\", \"Systeme\", \"Systeme\", \"Systemen\", \"Temperatur\", \"Terz\", \"Terz\", \"Theorie\", \"Theorie\", \"Theorie\", \"Ton\", \"Ton\", \"Ton\", \"Tonart\", \"Tonart\", \"Tonarten\", \"Tonarten\", \"Tonarten\", \"Tonica\", \"Tonica\", \"Tonika\", \"Tonkunst\", \"Tonsystem\", \"Tonverh\\u00e4ltnisse\", \"Tonverh\\u00e4ltnisse\", \"T\\u00f6ne\", \"T\\u00f6ne\", \"T\\u00f6ne\", \"T\\u00f6ne\", \"Uebergang\", \"Unterdominante\", \"Unterdominantseite\", \"Verbindung\", \"Verbindung\", \"Verfasser\", \"Verwandtschaft\", \"Verwandtschaft\", \"Verwandtschaft\", \"Verz\\u00f6gerung\", \"Vorhalt\", \"Weitzmann\", \"Werke\", \"Zahlen\", \"Zusammenhang\", \"Zusammenhang\", \"Zusammenklang\", \"Zusammenklang\", \"Zweiheit\", \"akustischen\", \"alten\", \"alten\", \"as\", \"as\", \"b\", \"b\", \"b\", \"bildet\", \"c\", \"c+\", \"c.\", \"chromatische\", \"chromatischen\", \"chromatischen\", \"cis\", \"d\", \"d+\", \"de\", \"dis\", \"doppel-zweizeitigen\", \"dreizeitigen\", \"dur-\", \"e\", \"e\", \"eigentlich\", \"enthalten\", \"enthalten\", \"enth\\u00e4lt\", \"enth\\u00e4lt\", \"erhalten\", \"erhalten\", \"erhalten\", \"etc.\", \"f\", \"f+\", \"fast\", \"finden\", \"finden\", \"finden\", \"finden\", \"fis\", \"fis\", \"folgende\", \"folgende\", \"folgende\", \"folgenden\", \"folgenden\", \"folgenden\", \"folgenden\", \"g\", \"g+\", \"geben\", \"geben\", \"geben\", \"gebracht\", \"ges\", \"gis\", \"gis\", \"gr\", \"h\", \"h\", \"i\", \"k\", \"kl\", \"l.\", \"la\", \"lassen\", \"lassen\", \"lassen\", \"l\\u00e4sst\", \"l\\u00e4sst\", \"l\\u00e4sst\", \"l\\u00e4\\u00dft\", \"mehrere\", \"melodisch\", \"melodische\", \"metrisch\", \"metrische\", \"metrischen\", \"negative\", \"neueren\", \"pag\", \"pag\", \"phon\", \"phonische\", \"phonischen\", \"positive\", \"positive\", \"positiven\", \"reine\", \"reine\", \"reinen\", \"reinen\", \"rhythmische\", \"rhythmischen\", \"setzt\", \"sub\", \"ton\", \"tonischen\", \"tonischen\", \"unten\", \"unten\", \"unten\", \"verminderte\", \"verminderten\", \"vierzeitigen\", \"w.\", \"z.\", \"z.\", \"z.\", \"z.\", \"\\u00e4lteren\", \"\\u00e4lteren\", \"\\u00fcberm\\u00e4\\u00dfige\", \"\\u00fcberm\\u00e4\\u00dfigen\", \"\\u266d\"]}, \"R\": 30, \"lambda.step\": 0.01, \"plot.opts\": {\"xlab\": \"PC1\", \"ylab\": \"PC2\"}, \"topic.order\": [0, 1, 2, 3, 4]};\n",
       "\n",
       "function LDAvis_load_lib(url, callback){\n",
       "  var s = document.createElement('script');\n",
       "  s.src = url;\n",
       "  s.async = true;\n",
       "  s.onreadystatechange = s.onload = callback;\n",
       "  s.onerror = function(){console.warn(\"failed to load library \" + url);};\n",
       "  document.getElementsByTagName(\"head\")[0].appendChild(s);\n",
       "}\n",
       "\n",
       "if(typeof(LDAvis) !== \"undefined\"){\n",
       "   // already loaded: just create the visualization\n",
       "   !function(LDAvis){\n",
       "       new LDAvis(\"#\" + \"ldavis_el444621404839591311523868957589\", ldavis_el444621404839591311523868957589_data);\n",
       "   }(LDAvis);\n",
       "}else if(typeof define === \"function\" && define.amd){\n",
       "   // require.js is available: use it to load d3/LDAvis\n",
       "   require.config({paths: {d3: \"https://d3js.org/d3.v5\"}});\n",
       "   require([\"d3\"], function(d3){\n",
       "      window.d3 = d3;\n",
       "      LDAvis_load_lib(\"https://cdn.jsdelivr.net/gh/bmabey/pyLDAvis@3.3.1/pyLDAvis/js/ldavis.v3.0.0.js\", function(){\n",
       "        new LDAvis(\"#\" + \"ldavis_el444621404839591311523868957589\", ldavis_el444621404839591311523868957589_data);\n",
       "      });\n",
       "    });\n",
       "}else{\n",
       "    // require.js not available: dynamically load d3 & LDAvis\n",
       "    LDAvis_load_lib(\"https://d3js.org/d3.v5.js\", function(){\n",
       "         LDAvis_load_lib(\"https://cdn.jsdelivr.net/gh/bmabey/pyLDAvis@3.3.1/pyLDAvis/js/ldavis.v3.0.0.js\", function(){\n",
       "                 new LDAvis(\"#\" + \"ldavis_el444621404839591311523868957589\", ldavis_el444621404839591311523868957589_data);\n",
       "            })\n",
       "         });\n",
       "}\n",
       "</script>"
      ],
      "text/plain": [
       "<IPython.core.display.HTML object>"
      ]
     },
     "execution_count": 43,
     "metadata": {},
     "output_type": "execute_result"
    }
   ],
   "source": [
    "pyLDAvis.display(prepared_data)"
   ]
  },
  {
   "cell_type": "code",
   "execution_count": null,
   "metadata": {},
   "outputs": [],
   "source": []
  }
 ],
 "metadata": {
  "kernelspec": {
   "display_name": "Python 3",
   "language": "python",
   "name": "python3"
  },
  "language_info": {
   "codemirror_mode": {
    "name": "ipython",
    "version": 3
   },
   "file_extension": ".py",
   "mimetype": "text/x-python",
   "name": "python",
   "nbconvert_exporter": "python",
   "pygments_lexer": "ipython3",
   "version": "3.8.6"
  }
 },
 "nbformat": 4,
 "nbformat_minor": 4
}
