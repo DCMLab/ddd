{
 "cells": [
  {
   "cell_type": "code",
   "execution_count": 21,
   "id": "9cfcd69c",
   "metadata": {},
   "outputs": [],
   "source": [
    "import spacy\n",
    "from collections import Counter\n",
    "import tomotopy as tp\n",
    "import os\n",
    "from tqdm import tqdm\n",
    "import pandas\n",
    "import matplotlib.pyplot as plt\n",
    "from sklearn.decomposition import PCA, TruncatedSVD\n",
    "from sklearn.manifold import MDS\n",
    "from sklearn.feature_extraction.text import TfidfVectorizer\n",
    "import numpy as np\n",
    "import random"
   ]
  },
  {
   "cell_type": "markdown",
   "id": "c738469d",
   "metadata": {},
   "source": [
    "## Load data"
   ]
  },
  {
   "cell_type": "code",
   "execution_count": 22,
   "id": "67d98965",
   "metadata": {},
   "outputs": [],
   "source": [
    "# Load german model\n",
    "nlp = spacy.load('de_core_news_lg')"
   ]
  },
  {
   "cell_type": "code",
   "execution_count": 23,
   "id": "84870120",
   "metadata": {},
   "outputs": [],
   "source": [
    "custom_stopwords = ['B.', '$', 'Fig', 'z.', 'MATH', '=', \"S.\", \"Seite\", \"2c\", \"GRAPHIC\", \"pag\", \"NB\", \"C.\",\n",
    "                    \"s.\", \"u.\", \"v.\", \"k\", \"l\", \"i\", \"R.\", \"H.\", \"de\", \"F.\", \"d.\", \"h.\", \"c.\", \"J.\", \"a.\", \"M.\"] + [str(i) for i in range(1000)]"
   ]
  },
  {
   "cell_type": "code",
   "execution_count": 24,
   "id": "ec121244",
   "metadata": {},
   "outputs": [],
   "source": [
    "for c in custom_stopwords:\n",
    "    nlp.vocab[c].is_stop = True\n",
    "    \n",
    "# explicitly include words in vocab \n",
    "for c in [\"a\"]:\n",
    "    nlp.vocab[c].is_stop = False"
   ]
  },
  {
   "cell_type": "code",
   "execution_count": 28,
   "id": "a46d1437",
   "metadata": {},
   "outputs": [
    {
     "name": "stdout",
     "output_type": "stream",
     "text": [
      "['CAP1905.txt', 'HAU1853.txt', 'HOS1879.txt', 'KRA1852.txt', 'KUN1863.txt', 'NAU1858.txt', 'OET1866.txt', 'RIE1905.txt', 'THU1877.txt', 'WEI1860.txt', 'WEI1861.txt']\n"
     ]
    }
   ],
   "source": [
    "# Parse files\n",
    "file_list = []\n",
    "for file in os.listdir('../data/all_txt/'):\n",
    "    file_list.append(file)\n",
    "    \n",
    "print(file_list)"
   ]
  },
  {
   "cell_type": "code",
   "execution_count": 29,
   "id": "9777e5ee",
   "metadata": {},
   "outputs": [
    {
     "name": "stderr",
     "output_type": "stream",
     "text": [
      "100%|██████████████████████████████████████████████████████████████████████████████████| 11/11 [03:30<00:00, 19.15s/it]\n"
     ]
    }
   ],
   "source": [
    "# Create a dictionary of all lemmatized texts\n",
    "texts = dict()\n",
    "for file in tqdm(file_list):\n",
    "    with open(f'../data/all_txt/{file}', 'r', encoding='utf-8') as f:\n",
    "        text = f.read()\n",
    "        text = text.replace('¬\\n', '')\n",
    "        doc = nlp(text)\n",
    "        name = file.split('.')[0]\n",
    "        \n",
    "        texts[name] = doc"
   ]
  },
  {
   "cell_type": "code",
   "execution_count": null,
   "id": "c5c90391",
   "metadata": {},
   "outputs": [],
   "source": []
  },
  {
   "cell_type": "code",
   "execution_count": null,
   "id": "da1ebcbb",
   "metadata": {},
   "outputs": [],
   "source": []
  },
  {
   "cell_type": "code",
   "execution_count": null,
   "id": "f493b1fd",
   "metadata": {},
   "outputs": [],
   "source": []
  },
  {
   "cell_type": "markdown",
   "id": "c78f9a21",
   "metadata": {},
   "source": [
    "## Book-level topic modeling"
   ]
  },
  {
   "cell_type": "code",
   "execution_count": 36,
   "id": "b32ce13e",
   "metadata": {},
   "outputs": [],
   "source": [
    "mdl_b = tp.LDAModel(k=5)"
   ]
  },
  {
   "cell_type": "code",
   "execution_count": 37,
   "id": "7b7a4a06",
   "metadata": {},
   "outputs": [],
   "source": [
    "for name, txt in texts.items():\n",
    "    words = [token.text\n",
    "         for token in txt\n",
    "         if not token.is_stop and not token.is_punct and not token.is_space]\n",
    "    mdl_b.add_doc(words)\n",
    "    \n"
   ]
  },
  {
   "cell_type": "code",
   "execution_count": 38,
   "id": "e34dea07",
   "metadata": {},
   "outputs": [],
   "source": [
    "mdl_b.train(2000)"
   ]
  },
  {
   "cell_type": "code",
   "execution_count": 39,
   "id": "b9048e10",
   "metadata": {},
   "outputs": [],
   "source": [
    "mdl_b.save('bookmodel.bin', full=False)"
   ]
  },
  {
   "cell_type": "markdown",
   "id": "45c603ba",
   "metadata": {},
   "source": [
    "## 100-word-level topic modeling"
   ]
  },
  {
   "cell_type": "code",
   "execution_count": 40,
   "id": "3b1fd194",
   "metadata": {},
   "outputs": [],
   "source": [
    "mdl_100 = tp.LDAModel(k=5)"
   ]
  },
  {
   "cell_type": "code",
   "execution_count": 41,
   "id": "8af1f4f4",
   "metadata": {},
   "outputs": [],
   "source": [
    "for txt in texts.values():\n",
    "    words = [token.text\n",
    "         for token in txt\n",
    "         if not token.is_stop and not token.is_punct and not token.is_space]\n",
    "    for i in range(0,len(words),100):\n",
    "        mdl_100.add_doc(words[i: i+100])"
   ]
  },
  {
   "cell_type": "code",
   "execution_count": 42,
   "id": "bf43b1ee",
   "metadata": {},
   "outputs": [],
   "source": [
    "mdl_100.train(2000)"
   ]
  },
  {
   "cell_type": "code",
   "execution_count": 43,
   "id": "8b0484f0",
   "metadata": {},
   "outputs": [],
   "source": [
    "mdl_100.save(\"100model.bin\", full=False)"
   ]
  },
  {
   "cell_type": "markdown",
   "id": "45dbd302",
   "metadata": {},
   "source": [
    "## Chapter-level topic modeling"
   ]
  },
  {
   "cell_type": "code",
   "execution_count": 11,
   "id": "3a2b83dd",
   "metadata": {},
   "outputs": [],
   "source": [
    "mdl_c = tp.LDAModel(k=5)"
   ]
  },
  {
   "cell_type": "code",
   "execution_count": null,
   "id": "0a04aa0c",
   "metadata": {},
   "outputs": [],
   "source": []
  },
  {
   "cell_type": "code",
   "execution_count": null,
   "id": "68690e4c",
   "metadata": {},
   "outputs": [],
   "source": []
  },
  {
   "cell_type": "code",
   "execution_count": null,
   "id": "0ac58ec5",
   "metadata": {},
   "outputs": [],
   "source": []
  },
  {
   "cell_type": "markdown",
   "id": "16fb3d08",
   "metadata": {},
   "source": [
    "## Paragraph-level topic modeling"
   ]
  },
  {
   "cell_type": "code",
   "execution_count": 12,
   "id": "2ea54595",
   "metadata": {},
   "outputs": [],
   "source": [
    "mdl_p = tp.LDAModel(k=5)"
   ]
  },
  {
   "cell_type": "code",
   "execution_count": null,
   "id": "82a6ec04",
   "metadata": {},
   "outputs": [],
   "source": []
  },
  {
   "cell_type": "code",
   "execution_count": null,
   "id": "ae3eefc7",
   "metadata": {},
   "outputs": [],
   "source": []
  },
  {
   "cell_type": "code",
   "execution_count": null,
   "id": "112d5e1f",
   "metadata": {},
   "outputs": [],
   "source": []
  },
  {
   "cell_type": "code",
   "execution_count": null,
   "id": "790898c2",
   "metadata": {},
   "outputs": [],
   "source": []
  },
  {
   "cell_type": "code",
   "execution_count": null,
   "id": "23ed4107",
   "metadata": {},
   "outputs": [],
   "source": []
  }
 ],
 "metadata": {
  "kernelspec": {
   "display_name": "Python 3",
   "language": "python",
   "name": "python3"
  },
  "language_info": {
   "codemirror_mode": {
    "name": "ipython",
    "version": 3
   },
   "file_extension": ".py",
   "mimetype": "text/x-python",
   "name": "python",
   "nbconvert_exporter": "python",
   "pygments_lexer": "ipython3",
   "version": "3.7.10"
  }
 },
 "nbformat": 4,
 "nbformat_minor": 5
}
