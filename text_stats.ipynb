{
 "cells": [
  {
   "cell_type": "code",
   "execution_count": 1,
   "metadata": {},
   "outputs": [],
   "source": [
    "import spacy\n",
    "from collections import Counter\n",
    "import tomotopy as tp\n",
    "import os\n",
    "from tqdm import tqdm\n",
    "import pandas"
   ]
  },
  {
   "cell_type": "markdown",
   "metadata": {},
   "source": [
    "## Prepare data"
   ]
  },
  {
   "cell_type": "code",
   "execution_count": 2,
   "metadata": {},
   "outputs": [],
   "source": [
    "# Load german model\n",
    "nlp = spacy.load('de_core_news_lg')"
   ]
  },
  {
   "cell_type": "code",
   "execution_count": 3,
   "metadata": {},
   "outputs": [],
   "source": [
    "custom_stopwords = ['B.', '$', 'Fig', 'z.', 'MATH', '=']"
   ]
  },
  {
   "cell_type": "code",
   "execution_count": 4,
   "metadata": {},
   "outputs": [],
   "source": [
    "for c in custom_stopwords:\n",
    "    nlp.vocab[c].is_stop = True"
   ]
  },
  {
   "cell_type": "code",
   "execution_count": null,
   "metadata": {},
   "outputs": [],
   "source": []
  },
  {
   "cell_type": "code",
   "execution_count": null,
   "metadata": {},
   "outputs": [],
   "source": []
  },
  {
   "cell_type": "code",
   "execution_count": 5,
   "metadata": {},
   "outputs": [],
   "source": [
    "# Parse files\n",
    "file_list = []\n",
    "for file in os.listdir('data/all_txt/'):\n",
    "    file_list.append(file)"
   ]
  },
  {
   "cell_type": "code",
   "execution_count": 6,
   "metadata": {},
   "outputs": [
    {
     "name": "stderr",
     "output_type": "stream",
     "text": [
      "100%|████████████████████████████████████████████████████████████████████████████████████| 8/8 [03:00<00:00, 22.59s/it]\n"
     ]
    }
   ],
   "source": [
    "# Create a dictionary of all lemmatized texts\n",
    "texts = dict()\n",
    "for file in tqdm(file_list):\n",
    "    with open(f'data/all_txt/{file}', 'r', encoding='utf-8') as f:\n",
    "        text = f.read()\n",
    "        text = text.replace('¬\\n', '')\n",
    "        doc = nlp(text)\n",
    "        name = file.split('.')[0]\n",
    "        \n",
    "        texts[name] = doc\n",
    "        "
   ]
  },
  {
   "cell_type": "markdown",
   "metadata": {},
   "source": [
    "## Basic statistics"
   ]
  },
  {
   "cell_type": "code",
   "execution_count": 7,
   "metadata": {},
   "outputs": [],
   "source": [
    "entries = []\n",
    "for name, txt in texts.items():\n",
    "    words = [token.text\n",
    "         for token in txt\n",
    "         if not token.is_stop and not token.is_punct and not token.is_space]\n",
    "    nouns = [token.text\n",
    "         for token in txt\n",
    "         if (not token.is_stop and\n",
    "             not token.is_punct and\n",
    "             token.pos_ == \"NOUN\")]\n",
    "    vocab = set(words)\n",
    "    \n",
    "    # most common tokens\n",
    "    word_freq = Counter(words)\n",
    "    common_words = word_freq.most_common(10)\n",
    "\n",
    "    # most common noun tokens\n",
    "    noun_freq = Counter(nouns)\n",
    "    common_nouns = noun_freq.most_common(10)\n",
    "\n",
    "    # vocabulary size\n",
    "    vocab_size = len(vocab)\n",
    "    \n",
    "    entry = {\n",
    "        'name': name,\n",
    "        'common words': common_words,\n",
    "        'common nouns': common_nouns,\n",
    "        'vocabulary size': vocab_size,\n",
    "    }\n",
    "    \n",
    "    entries.append(entry)\n",
    "    "
   ]
  },
  {
   "cell_type": "code",
   "execution_count": 8,
   "metadata": {},
   "outputs": [],
   "source": [
    "glob_words = []\n",
    "glob_nouns = []\n",
    "\n",
    "for name, txt in texts.items():\n",
    "    for token in txt:\n",
    "        if not token.is_stop and not token.is_punct and not token.is_space:\n",
    "            glob_words.append(token.text)\n",
    "        if (not token.is_stop and not token.is_punct and token.pos_ == \"NOUN\"):\n",
    "            glob_nouns.append(token.text)\n",
    "\n",
    "glob_vocab = set(glob_words)\n",
    "\n",
    "# most common tokens\n",
    "word_freq = Counter(glob_words)\n",
    "glob_common_words = word_freq.most_common(10)\n",
    "\n",
    "# most common noun tokens\n",
    "noun_freq = Counter(glob_nouns)\n",
    "glob_common_nouns = noun_freq.most_common(10)\n",
    "\n",
    "# vocabulary size\n",
    "glob_vocab_size = len(glob_vocab)\n",
    "\n",
    "glob_entry = {\n",
    "    'name': 'all texts',\n",
    "    'common words': glob_common_words,\n",
    "    'common nouns': glob_common_nouns,\n",
    "    'vocabulary size': glob_vocab_size,\n",
    "}\n",
    "\n",
    "entries.append(glob_entry)\n"
   ]
  },
  {
   "cell_type": "code",
   "execution_count": 9,
   "metadata": {},
   "outputs": [
    {
     "data": {
      "text/plain": [
       "{'name': 'all texts',\n",
       " 'common words': [('Töne', 662),\n",
       "  ('c', 605),\n",
       "  ('e', 543),\n",
       "  ('Terz', 476),\n",
       "  ('g', 450),\n",
       "  ('Ton', 436),\n",
       "  ('C', 435),\n",
       "  ('Folge', 407),\n",
       "  ('Bedeutung', 406),\n",
       "  ('h', 400)],\n",
       " 'common nouns': [('Töne', 662),\n",
       "  ('Terz', 439),\n",
       "  ('Ton', 435),\n",
       "  ('Folge', 407),\n",
       "  ('Bedeutung', 406),\n",
       "  ('Tonart', 352),\n",
       "  ('Grundton', 348),\n",
       "  ('Accorde', 282),\n",
       "  ('Dissonanz', 254),\n",
       "  ('Dreiklang', 240)],\n",
       " 'vocabulary size': 19570}"
      ]
     },
     "execution_count": 9,
     "metadata": {},
     "output_type": "execute_result"
    }
   ],
   "source": [
    "glob_entry"
   ]
  },
  {
   "cell_type": "code",
   "execution_count": 10,
   "metadata": {},
   "outputs": [
    {
     "data": {
      "text/html": [
       "<div>\n",
       "<style scoped>\n",
       "    .dataframe tbody tr th:only-of-type {\n",
       "        vertical-align: middle;\n",
       "    }\n",
       "\n",
       "    .dataframe tbody tr th {\n",
       "        vertical-align: top;\n",
       "    }\n",
       "\n",
       "    .dataframe thead th {\n",
       "        text-align: right;\n",
       "    }\n",
       "</style>\n",
       "<table border=\"1\" class=\"dataframe\">\n",
       "  <thead>\n",
       "    <tr style=\"text-align: right;\">\n",
       "      <th></th>\n",
       "      <th>name</th>\n",
       "      <th>common words</th>\n",
       "      <th>common nouns</th>\n",
       "      <th>vocabulary size</th>\n",
       "    </tr>\n",
       "  </thead>\n",
       "  <tbody>\n",
       "    <tr>\n",
       "      <th>0</th>\n",
       "      <td>CAP1905</td>\n",
       "      <td>[(c, 161), (S., 159), (e, 159), (g, 128), (C, ...</td>\n",
       "      <td>[(S., 154), (Terz, 52), (Grundton, 51), (Töne,...</td>\n",
       "      <td>4915</td>\n",
       "    </tr>\n",
       "    <tr>\n",
       "      <th>1</th>\n",
       "      <td>HAU1853</td>\n",
       "      <td>[(Quint, 305), (Terz, 254), (Folge, 249), (Bed...</td>\n",
       "      <td>[(Folge, 249), (Bedeutung, 235), (Terz, 233), ...</td>\n",
       "      <td>7905</td>\n",
       "    </tr>\n",
       "    <tr>\n",
       "      <th>2</th>\n",
       "      <td>KUN1863</td>\n",
       "      <td>[(2c, 85), (Verfasser, 83), (Töne, 76), (Seite...</td>\n",
       "      <td>[(2c, 85), (Verfasser, 83), (Töne, 76), (Seite...</td>\n",
       "      <td>5315</td>\n",
       "    </tr>\n",
       "    <tr>\n",
       "      <th>3</th>\n",
       "      <td>NAU1858</td>\n",
       "      <td>[(Töne, 110), (Terz, 63), (gr, 58), (C, 58), (...</td>\n",
       "      <td>[(Töne, 110), (Terz, 63), (Quinte, 46), (Octav...</td>\n",
       "      <td>2751</td>\n",
       "    </tr>\n",
       "    <tr>\n",
       "      <th>4</th>\n",
       "      <td>OET1866</td>\n",
       "      <td>[(c, 341), (1, 255), (g, 255), (e, 230), (d, 2...</td>\n",
       "      <td>[(Töne, 189), (Ton, 145), (Klänge, 144), (Verw...</td>\n",
       "      <td>6781</td>\n",
       "    </tr>\n",
       "    <tr>\n",
       "      <th>5</th>\n",
       "      <td>RIE1905</td>\n",
       "      <td>[(Töne, 38), (Konsonanz, 30), (Ton, 28), (Terz...</td>\n",
       "      <td>[(Töne, 38), (Konsonanz, 30), (Ton, 28), (Terz...</td>\n",
       "      <td>2329</td>\n",
       "    </tr>\n",
       "    <tr>\n",
       "      <th>6</th>\n",
       "      <td>WEI1860</td>\n",
       "      <td>[(C, 55), (Tonart, 47), (Töne, 46), (folgenden...</td>\n",
       "      <td>[(Tonart, 47), (Töne, 46), (Quinte, 34), (Acco...</td>\n",
       "      <td>1860</td>\n",
       "    </tr>\n",
       "    <tr>\n",
       "      <th>7</th>\n",
       "      <td>WEI1861</td>\n",
       "      <td>[(Tonart, 30), (Herr, 25), (Schrift, 22), (S.,...</td>\n",
       "      <td>[(Tonart, 30), (Herr, 25), (Schrift, 22), (Kri...</td>\n",
       "      <td>1727</td>\n",
       "    </tr>\n",
       "    <tr>\n",
       "      <th>8</th>\n",
       "      <td>all texts</td>\n",
       "      <td>[(Töne, 662), (c, 605), (e, 543), (Terz, 476),...</td>\n",
       "      <td>[(Töne, 662), (Terz, 439), (Ton, 435), (Folge,...</td>\n",
       "      <td>19570</td>\n",
       "    </tr>\n",
       "  </tbody>\n",
       "</table>\n",
       "</div>"
      ],
      "text/plain": [
       "        name                                       common words  \\\n",
       "0    CAP1905  [(c, 161), (S., 159), (e, 159), (g, 128), (C, ...   \n",
       "1    HAU1853  [(Quint, 305), (Terz, 254), (Folge, 249), (Bed...   \n",
       "2    KUN1863  [(2c, 85), (Verfasser, 83), (Töne, 76), (Seite...   \n",
       "3    NAU1858  [(Töne, 110), (Terz, 63), (gr, 58), (C, 58), (...   \n",
       "4    OET1866  [(c, 341), (1, 255), (g, 255), (e, 230), (d, 2...   \n",
       "5    RIE1905  [(Töne, 38), (Konsonanz, 30), (Ton, 28), (Terz...   \n",
       "6    WEI1860  [(C, 55), (Tonart, 47), (Töne, 46), (folgenden...   \n",
       "7    WEI1861  [(Tonart, 30), (Herr, 25), (Schrift, 22), (S.,...   \n",
       "8  all texts  [(Töne, 662), (c, 605), (e, 543), (Terz, 476),...   \n",
       "\n",
       "                                        common nouns  vocabulary size  \n",
       "0  [(S., 154), (Terz, 52), (Grundton, 51), (Töne,...             4915  \n",
       "1  [(Folge, 249), (Bedeutung, 235), (Terz, 233), ...             7905  \n",
       "2  [(2c, 85), (Verfasser, 83), (Töne, 76), (Seite...             5315  \n",
       "3  [(Töne, 110), (Terz, 63), (Quinte, 46), (Octav...             2751  \n",
       "4  [(Töne, 189), (Ton, 145), (Klänge, 144), (Verw...             6781  \n",
       "5  [(Töne, 38), (Konsonanz, 30), (Ton, 28), (Terz...             2329  \n",
       "6  [(Tonart, 47), (Töne, 46), (Quinte, 34), (Acco...             1860  \n",
       "7  [(Tonart, 30), (Herr, 25), (Schrift, 22), (Kri...             1727  \n",
       "8  [(Töne, 662), (Terz, 439), (Ton, 435), (Folge,...            19570  "
      ]
     },
     "execution_count": 10,
     "metadata": {},
     "output_type": "execute_result"
    }
   ],
   "source": [
    "df = pandas.DataFrame(data=entries)\n",
    "df"
   ]
  },
  {
   "cell_type": "code",
   "execution_count": 11,
   "metadata": {},
   "outputs": [],
   "source": [
    "df.to_csv('text_stats.csv', encoding='utf-8')"
   ]
  },
  {
   "cell_type": "markdown",
   "metadata": {},
   "source": [
    "## Topic modelling"
   ]
  },
  {
   "cell_type": "code",
   "execution_count": 12,
   "metadata": {
    "scrolled": true
   },
   "outputs": [],
   "source": [
    "mdl = tp.LDAModel(k=5)"
   ]
  },
  {
   "cell_type": "code",
   "execution_count": 13,
   "metadata": {},
   "outputs": [],
   "source": [
    "for txt in texts.values():\n",
    "    words = [token.text\n",
    "         for token in txt\n",
    "         if not token.is_stop and not token.is_punct and not token.is_space]\n",
    "    for i in range(0,len(words),100):\n",
    "        mdl.add_doc(words[i: i+100])"
   ]
  },
  {
   "cell_type": "code",
   "execution_count": 14,
   "metadata": {},
   "outputs": [],
   "source": [
    "mdl.train(500)"
   ]
  },
  {
   "cell_type": "code",
   "execution_count": 15,
   "metadata": {
    "scrolled": true
   },
   "outputs": [
    {
     "name": "stdout",
     "output_type": "stream",
     "text": [
      "Top 10 words of topic #0\n",
      "[('Bestimmung', 0.012164127081632614), ('Einheit', 0.011526988819241524), ('Bedeutung', 0.010194790549576283), ('Metrum', 0.007588316220790148), ('Ordnung', 0.007530394475907087), ('Quint', 0.007356629706919193), ('metrischen', 0.006893256679177284), ('Glied', 0.006777413189411163), ('enthalten', 0.005966510158032179), ('metrische', 0.005850666668266058)]\n",
      "Top 10 words of topic #1\n",
      "[('Töne', 0.008368676528334618), ('Musik', 0.0073416586965322495), ('Theorie', 0.004983320366591215), ('Intervalle', 0.004679019097238779), ('musikalischen', 0.004450792912393808), ('musikalische', 0.0037280761171132326), ('reinen', 0.0036520007997751236), ('Octave', 0.003499849932268262), ('2c', 0.0033476990647614002), ('Quinten', 0.0031194728799164295)]\n",
      "Top 10 words of topic #2\n",
      "[('C', 0.015416481532156467), ('Töne', 0.015191101469099522), ('Terz', 0.014695263467729092), ('Grundton', 0.014514959417283535), ('Dissonanz', 0.011539936065673828), ('Ton', 0.011269479058682919), ('Quint', 0.011089174076914787), ('G', 0.011044098064303398), ('Septime', 0.010322879999876022), ('Auflösung', 0.010277803987264633)]\n",
      "Top 10 words of topic #3\n",
      "[('c', 0.024679480120539665), ('g', 0.018356742337346077), ('e', 0.01525656133890152), ('d', 0.015134185552597046), ('f', 0.01293142605572939), ('1', 0.012115588411688805), ('h', 0.008607489056885242), ('Klänge', 0.007220565807074308), ('S.', 0.006608687806874514), ('Ton', 0.006404728628695011)]\n",
      "Top 10 words of topic #4\n",
      "[('Tonart', 0.018680514767766), ('tonischen', 0.01103870291262865), ('Accorde', 0.01072029396891594), ('Dreiklänge', 0.010614157654345036), ('Tonarten', 0.010614157654345036), ('Folge', 0.00939359050244093), ('Dreiklang', 0.009287454187870026), ('lassen', 0.007854614406824112), ('Dreiklange', 0.007695409934967756), ('C-e-G', 0.0064217750914394855)]\n"
     ]
    }
   ],
   "source": [
    "for k in range(mdl.k):\n",
    "    print('Top 10 words of topic #{}'.format(k))\n",
    "    print(mdl.get_topic_words(k, top_n=10))"
   ]
  },
  {
   "cell_type": "code",
   "execution_count": 16,
   "metadata": {},
   "outputs": [],
   "source": [
    "import pyLDAvis\n",
    "import numpy as np \n",
    "\n",
    "topic_term_dists = np.stack([mdl.get_topic_word_dist(k) for k in range(mdl.k)])\n",
    "doc_topic_dists = np.stack([doc.get_topic_dist() for doc in mdl.docs])\n",
    "doc_lengths = np.array([len(doc.words) for doc in mdl.docs])\n",
    "vocab = list(mdl.used_vocabs)\n",
    "term_frequency = mdl.used_vocab_freq\n",
    "\n",
    "prepared_data = pyLDAvis.prepare(\n",
    "    topic_term_dists,\n",
    "    doc_topic_dists,\n",
    "    doc_lengths,\n",
    "    vocab,\n",
    "    term_frequency,\n",
    "    sort_topics=False,\n",
    "    start_index=0,\n",
    ")\n",
    "\n"
   ]
  },
  {
   "cell_type": "code",
   "execution_count": 17,
   "metadata": {},
   "outputs": [
    {
     "name": "stderr",
     "output_type": "stream",
     "text": [
      "C:\\Users\\cmetrai2\\anaconda3\\envs\\doc\\lib\\site-packages\\ipykernel\\ipkernel.py:287: DeprecationWarning: `should_run_async` will not call `transform_cell` automatically in the future. Please pass the result to `transformed_cell` argument and any exception that happen during thetransform in `preprocessing_exc_tuple` in IPython 7.17 and above.\n",
      "  and should_run_async(code)\n"
     ]
    }
   ],
   "source": [
    "from sklearn.decomposition import PCA\n",
    "from sklearn.manifold import MDS\n",
    "# pca = PCA(n_components=2)\n",
    "pca = MDS(n_components=2)\n",
    "X = pca.fit_transform(topic_term_dists)"
   ]
  },
  {
   "cell_type": "code",
   "execution_count": 18,
   "metadata": {
    "scrolled": false
   },
   "outputs": [
    {
     "name": "stderr",
     "output_type": "stream",
     "text": [
      "C:\\Users\\cmetrai2\\anaconda3\\envs\\doc\\lib\\site-packages\\ipykernel\\ipkernel.py:287: DeprecationWarning: `should_run_async` will not call `transform_cell` automatically in the future. Please pass the result to `transformed_cell` argument and any exception that happen during thetransform in `preprocessing_exc_tuple` in IPython 7.17 and above.\n",
      "  and should_run_async(code)\n"
     ]
    },
    {
     "data": {
      "text/plain": [
       "<matplotlib.collections.PathCollection at 0x288464ec088>"
      ]
     },
     "execution_count": 18,
     "metadata": {},
     "output_type": "execute_result"
    },
    {
     "data": {
      "image/png": "[encoded data removed]",
      "text/plain": [
       "<Figure size 432x288 with 1 Axes>"
      ]
     },
     "metadata": {
      "needs_background": "light"
     },
     "output_type": "display_data"
    }
   ],
   "source": [
    "import matplotlib.pyplot as plt\n",
    "\n",
    "plt.scatter(X[:,0], X[:,1])"
   ]
  },
  {
   "cell_type": "markdown",
   "metadata": {},
   "source": [
    "- 2 Figures\n",
    "    1. PCA/MDS of document vectors (TF-IDF)\n",
    "    2. PCA/MDS of topic-term dists \n",
    "    3. Table of top 10 words for topics"
   ]
  },
  {
   "cell_type": "code",
   "execution_count": 19,
   "metadata": {},
   "outputs": [
    {
     "name": "stderr",
     "output_type": "stream",
     "text": [
      "C:\\Users\\cmetrai2\\anaconda3\\envs\\doc\\lib\\site-packages\\ipykernel\\ipkernel.py:287: DeprecationWarning: `should_run_async` will not call `transform_cell` automatically in the future. Please pass the result to `transformed_cell` argument and any exception that happen during thetransform in `preprocessing_exc_tuple` in IPython 7.17 and above.\n",
      "  and should_run_async(code)\n"
     ]
    }
   ],
   "source": [
    "pyLDAvis.save_html(prepared_data, \"ldavis.html\")"
   ]
  },
  {
   "cell_type": "code",
   "execution_count": 20,
   "metadata": {},
   "outputs": [
    {
     "name": "stderr",
     "output_type": "stream",
     "text": [
      "C:\\Users\\cmetrai2\\anaconda3\\envs\\doc\\lib\\site-packages\\ipykernel\\ipkernel.py:287: DeprecationWarning: `should_run_async` will not call `transform_cell` automatically in the future. Please pass the result to `transformed_cell` argument and any exception that happen during thetransform in `preprocessing_exc_tuple` in IPython 7.17 and above.\n",
      "  and should_run_async(code)\n"
     ]
    }
   ],
   "source": [
    "pyLDAvis.enable_notebook()"
   ]
  },
  {
   "cell_type": "code",
   "execution_count": 21,
   "metadata": {},
   "outputs": [
    {
     "name": "stderr",
     "output_type": "stream",
     "text": [
      "C:\\Users\\cmetrai2\\anaconda3\\envs\\doc\\lib\\site-packages\\ipykernel\\ipkernel.py:287: DeprecationWarning: `should_run_async` will not call `transform_cell` automatically in the future. Please pass the result to `transformed_cell` argument and any exception that happen during thetransform in `preprocessing_exc_tuple` in IPython 7.17 and above.\n",
      "  and should_run_async(code)\n"
     ]
    },
    {
     "data": {
      "text/html": [
       "\n",
       "<link rel=\"stylesheet\" type=\"text/css\" href=\"https://cdn.jsdelivr.net/gh/bmabey/pyLDAvis@3.3.1/pyLDAvis/js/ldavis.v1.0.0.css\">\n",
       "\n",
       "\n",
       "<div id=\"ldavis_el84027843110556885279371397\"></div>\n",
       "<script type=\"text/javascript\">\n",
       "\n",
       "var ldavis_el84027843110556885279371397_data = {\"mdsDat\": {\"x\": [0.1653490500003798, -0.3369147737178858, 0.033635400722536776, -0.07931732536855313, 0.2172476483635222], \"y\": [0.08071301549054535, 0.19298943326285606, -0.22888067970378204, -0.23303860612721586, 0.18821683707759657], \"topics\": [0, 1, 2, 3, 4], \"cluster\": [1, 1, 1, 1, 1], \"Freq\": [15.752174028305992, 24.117703003828428, 20.409530722401403, 22.39320260378684, 17.32738964167734]}, \"tinfo\": {\"Term\": [\"c\", \"g\", \"Tonart\", \"d\", \"e\", \"f\", \"C\", \"Grundton\", \"Dissonanz\", \"G\", \"Bestimmung\", \"Quint\", \"Terz\", \"1\", \"Einheit\", \"Septime\", \"Aufl\\u00f6sung\", \"T\\u00f6ne\", \"D\", \"Tonarten\", \"Dreikl\\u00e4nge\", \"h\", \"tonischen\", \"F\", \"Accorde\", \"Ton\", \"Dreiklang\", \"Musik\", \"Bedeutung\", \"Folge\", \"Einheit\", \"Metrum\", \"Ordnung\", \"metrischen\", \"Glied\", \"metrische\", \"Formation\", \"Moment\", \"Momente\", \"metrisch\", \"positive\", \"K\\u00fcrze\", \"H\\u00e4lfte\", \"Accent\", \"Gliederung\", \"Gliedes\", \"vierzeitigen\", \"L\\u00e4nge\", \"Zweiheit\", \"dreizeitigen\", \"Paare\", \"positiven\", \"Metrums\", \"Gliede\", \"setzt\", \"doppel-zweizeitigen\", \"Trennung\", \"Formen\", \"rhythmische\", \"Daktylus\", \"Bestimmung\", \"Glieder\", \"Octav\", \"Bestimmungen\", \"Begriffe\", \"Bedeutung\", \"l\\u00e4sst\", \"enthalten\", \"Form\", \"Quint\", \"Reihe\", \"Begriff\", \"Terz\", \"Folge\", \"lassen\", \"Bewegung\", \"d.\", \"Musik\", \"2c\", \"Ohr\", \"Harmonielehre\", \"Temperatur\", \"alten\", \"Konsonanz\", \"Lehre\", \"Harmoniesystem\", \"Weitzmann\", \"etc.\", \"V\", \"gr\", \"akustischen\", \"Frage\", \"Grundlage\", \"kl\", \"Musiktheorie\", \"Octaven\", \"erkl\\u00e4rt\", \"Tonh\\u00f6he\", \"Schrift\", \"Musiker\", \"Harmonik\", \"Tonverh\\u00e4ltnisse\", \"11\", \"Leipzig\", \"Akustik\", \"Auge\", \"i\", \"Octave\", \"musikalischen\", \"Begr\\u00fcndung\", \"musikalische\", \"Theorie\", \"Quinten\", \"praktischen\", \"reinen\", \"Intervalle\", \"Erkl\\u00e4rung\", \"T\\u00f6ne\", \"III\", \"harmonischen\", \"n\\u00e4mlich\", \"II\", \"verschiedenen\", \"Quinte\", \"T\\u00f6nen\", \"Harmonie\", \"Dissonanz\", \"G\", \"Septime\", \"Aufl\\u00f6sung\", \"D\", \"F\", \"Septimenaccorde\", \"Fortschreitung\", \"Intervall\", \"Accordes\", \"Grundtone\", \"chromatischen\", \"Stimme\", \"verminderte\", \"B\", \"Zusammenklang\", \"Septimenaccordes\", \"Molldreiklang\", \"melodisch\", \"liegen\", \"Vorhalt\", \"Vorhalte\", \"Stufen\", \"dissonirenden\", \"de\", \"Zusammenklange\", \"abw\\u00e4rts\", \"melodischen\", \"liegenden\", \"Consonanz\", \"Grundton\", \"Dreiklanges\", \"E\", \"C\", \"gleichzeitig\", \"Tone\", \"Terz\", \"Stimmen\", \"Quint\", \"Ton\", \"T\\u00f6ne\", \"Septimenaccord\", \"bildet\", \"h\", \"Quinte\", \"folgenden\", \"Bedeutung\", \"e\", \"Folge\", \"fis\", \"enthalten\", \"Accord\", \"c\", \"g\", \"f\", \"Kl\\u00e4nge\", \"Helmholtz\", \"phon\", \"phonischen\", \"Riemann\", \"ton\", \"Dur\", \"c.\", \"Auffassung\", \"phonische\", \"l.\", \"Phonica\", \"Oberton\", \"+\", \"c+\", \"Prinzip\", \"sub\", \"Tonika\", \"Deutung\", \"R.\", \"Gebilde\", \"f+\", \"verstanden\", \"Dominante\", \"Klangfolge\", \"H.\", \"g+\", \"d\", \"Klang\", \"1\", \"e\", \"pag\", \"S.\", \"b\", \"3\", \"Moll\", \"h\", \"2\", \"Verwandtschaft\", \"Ton\", \"Systeme\", \"d.\", \"GRAPHIC\", \"h.\", \"System\", \"T\\u00f6ne\", \"C\", \"Tonart\", \"Dreikl\\u00e4nge\", \"Tonarten\", \"Dreiklange\", \"C-e-G\", \"Molltonart\", \"Durtonart\", \"Dreikl\\u00e4ngen\", \"C-Durtonart\", \"Oberdominantseite\", \"Harmonieen\", \"Unterdominantseite\", \"Oberdominant\", \"D|F-a\", \"h-D|F\", \"Grenzen\", \"ersteren\", \"Uebergange\", \"Unterdominant\", \"G-h-D\", \"Accordfolge\", \"verwandten\", \"\\u00fcberm\\u00e4\\u00dfigen\", \"e-G-h\", \"C-dur\", \"Haupttonart\", \"Oberdominantquint\", \"F-a-C\", \"h-D|F-a\", \"Stellung\", \"folgen\", \"tonischen\", \"Accorde\", \"Dreiklang\", \"Uebergang\", \"bringen\", \"stehen\", \"lassen\", \"Folge\", \"Tonica\", \"Accord\", \"Folgen\", \"Seite\", \"tonische\", \"Verbindung\", \"finden\", \"Weise\", \"erscheinen\", \"Form\", \"Beziehung\", \"Verfasser\", \"Verwandtschaft\", \"Modulation\"], \"Freq\": [597.0, 444.0, 350.0, 377.0, 537.0, 313.0, 432.0, 346.0, 254.0, 243.0, 208.0, 370.0, 472.0, 362.0, 196.0, 227.0, 226.0, 657.0, 220.0, 198.0, 198.0, 396.0, 282.0, 203.0, 281.0, 432.0, 238.0, 191.0, 401.0, 404.0, 196.3172228026133, 129.2373220425807, 128.25085139758949, 117.3996980948485, 115.42675680486605, 99.64325027716892, 80.90033974521894, 78.92739845523649, 77.94092781024526, 76.95446509597488, 73.00858251600995, 65.11683321752182, 64.13036257253059, 58.211542667943625, 55.25213469833036, 53.27919737370832, 53.27919737370832, 53.27919737370832, 51.30626004908629, 50.31978940409506, 48.346852079473024, 45.38744410985976, 43.41450678523773, 42.42803614024649, 40.45509881562446, 40.45509881562446, 38.48216149100243, 38.48216149100243, 37.49569084601119, 37.49569084601119, 207.16838403607514, 54.26566801869956, 60.184479992565656, 93.72443433794238, 58.211542667943625, 173.6284296906984, 83.85974374947179, 101.61619156715138, 82.87327310448055, 125.29144739333664, 80.90033974521894, 57.225075988312824, 87.80561839871585, 83.85974374947179, 65.11683321752182, 55.25213469833036, 55.25213469833036, 191.4397692958052, 87.29399759926447, 72.41602934672295, 71.42416317755354, 67.45671064337571, 66.46484447420632, 62.497379797528666, 60.513653530439754, 60.513653530439754, 58.529921192100936, 58.529921192100936, 58.529921192100936, 58.529921192100936, 55.55432875584261, 54.5624625866732, 51.586870150414875, 51.586870150414875, 50.59500701687042, 48.61127771415656, 47.6194145806121, 46.62754841144269, 45.63568527789823, 42.66008980601496, 38.69263423621218, 38.69263423621218, 38.69263423621218, 37.700768067042766, 36.70890493349831, 36.70890493349831, 36.70890493349831, 91.26145620469221, 116.05807400642801, 71.42416317755354, 97.21264107720886, 129.9441639473003, 81.34281272674784, 41.6682266724705, 95.22891481011995, 122.00925887894466, 72.41602934672295, 218.22010122213013, 58.529921192100936, 72.41602934672295, 76.38348795215069, 61.50551969960917, 64.48111213586749, 69.44043691046463, 64.48111213586749, 64.48111213586749, 254.64693330958855, 243.70548391604174, 227.79066711734188, 226.79599363631124, 220.82795275012754, 203.91846247039703, 151.20064466914428, 147.2219404694693, 145.23259350740807, 113.40298046111327, 107.43491902382456, 89.53076553861594, 86.54673481997158, 78.58932642062163, 78.58932642062163, 74.61062735872291, 71.62659664007856, 58.69581056002303, 58.69581056002303, 51.73308077947995, 51.73308077947995, 49.743728679642466, 48.74905519861184, 47.754376579804976, 47.754376579804976, 46.75970309877436, 46.75970309877436, 45.765024479967494, 45.765024479967494, 41.78632284918064, 320.29552691534434, 114.39765394214389, 65.65854547834235, 340.1890376381667, 81.573357139266, 98.482837143444, 324.2742208394668, 87.5414083010022, 244.7001573970724, 248.67887187229982, 335.2156702330136, 91.52011250067717, 71.62659664007856, 188.00364567169714, 118.37635814181886, 101.46686786208835, 159.1580530684942, 168.1101349488748, 144.23792002637742, 99.47752090002712, 99.47752090002712, 92.51478598170779, 597.5224744661426, 444.4407277209931, 313.08672862864233, 174.81933683432538, 147.1658562206083, 139.2648601489365, 106.67328376681215, 103.71040601208455, 102.72278009384202, 90.87129162346854, 74.08168483615087, 73.09405891790833, 70.13118680031496, 68.15594060096413, 66.18068876447906, 65.19306848337077, 65.19306848337077, 62.23019072864316, 61.24256481040062, 54.32920029410559, 53.341574375863054, 52.35394845762052, 51.36632817651222, 47.41583014067632, 47.41583014067632, 46.4282070410009, 45.44058112275837, 41.49008590548958, 41.49008590548958, 41.49008590548958, 366.4184154710545, 92.84654345995361, 293.3342328123286, 369.3812932257821, 103.71040601208455, 160.0049706092243, 131.36387535153315, 147.1658562206083, 93.83416374106191, 208.39856168322922, 139.2648601489365, 111.61140208375636, 155.06685229228012, 90.87129162346854, 99.75991361338288, 81.98267527068843, 84.94554738828181, 82.97030118893097, 103.71040601208455, 91.85891754171108, 349.9645140942071, 198.8477604713457, 198.8477604713457, 144.167354707688, 120.30682384491203, 115.33588500404574, 95.4521034692044, 72.58574903367204, 56.67872118866136, 55.684531675729694, 54.690342162798025, 53.696152649866356, 53.696152649866356, 49.71939459813968, 44.74845139537736, 43.75426188244569, 42.76007236951402, 39.77750383071901, 39.77750383071901, 38.783314317787344, 37.789124804855675, 34.80655844700868, 34.80655844700868, 34.80655844700868, 34.80655844700868, 33.81237111502502, 33.81237111502502, 32.818181602093354, 32.818181602093354, 30.829804757178028, 72.58574903367204, 206.80127657479906, 200.83613949720905, 173.99303137184603, 85.51020833988771, 44.74845139537736, 81.53345028816103, 147.149923246483, 175.98141039770937, 85.51020833988771, 109.37074792645572, 62.64385390435535, 81.53345028816103, 72.58574903367204, 78.55088174936603, 79.5450712622977, 70.5973700078087, 65.62642680504638, 61.649664391423684, 59.661285365560346, 57.67291070159303, 59.661285365560346, 56.67872118866136], \"Total\": [597.0, 444.0, 350.0, 377.0, 537.0, 313.0, 432.0, 346.0, 254.0, 243.0, 208.0, 370.0, 472.0, 362.0, 196.0, 227.0, 226.0, 657.0, 220.0, 198.0, 198.0, 396.0, 282.0, 203.0, 281.0, 432.0, 238.0, 191.0, 401.0, 404.0, 196.3569063360397, 129.27700557600713, 128.2905349310159, 117.43938162827492, 115.46644033829246, 99.68293381059533, 80.94002327864536, 78.9670819886629, 77.98061134367167, 76.9941486294013, 73.04826604943636, 65.15651675094823, 64.170046105957, 58.251226201370045, 55.29181823175678, 53.31888090713474, 53.31888090713474, 53.31888090713474, 51.34594358251271, 50.35947293752148, 48.38653561289944, 45.42712764328618, 43.454190318664146, 42.46771967367291, 40.49478234905088, 40.49478234905088, 38.52184502442885, 38.52184502442885, 37.53537437943761, 37.53537437943761, 208.19993210079716, 59.27629744167142, 69.17624474219966, 127.48750868783392, 69.16173610787561, 401.98273174992846, 136.44799939236466, 207.08858410108377, 144.5526791384184, 370.0213415670742, 180.24270122404883, 72.14272803367254, 472.3546443035372, 404.0988690593115, 252.96294300029513, 74.19065673604163, 187.8661523854636, 191.47939887589388, 87.33362717935313, 72.45565892681161, 71.4637927576422, 67.49634022346437, 66.50447405429497, 62.53700937761733, 60.55328311052842, 60.55328311052842, 58.5695507721896, 58.5695507721896, 58.5695507721896, 58.5695507721896, 55.593958335931276, 54.602092166761864, 51.62649973050354, 51.62649973050354, 50.63463659695908, 48.65090729424522, 47.659044160700766, 46.667177991531354, 45.6753148579869, 42.699719386103624, 38.73226381630084, 38.73226381630084, 38.73226381630084, 37.74039764713143, 36.748534513586975, 36.748534513586975, 36.748534513586975, 92.29576149163765, 118.08608175512262, 72.45141684477947, 105.14402405474465, 150.72389977840552, 90.3301446123976, 42.6943254202213, 138.72400307301314, 206.59632442240616, 96.29505024653807, 657.1659840499527, 72.4950103113248, 126.71146225369901, 146.8126313561794, 91.25143918661948, 125.07285743814707, 187.8464778756109, 146.03479108064292, 149.05796043654487, 254.68653477806586, 243.74508538451906, 227.8302685858192, 226.83559510478855, 220.86755421860485, 203.95806393887435, 151.2402461376216, 147.26154193794662, 145.27219497588538, 113.44258192959059, 107.47452049230188, 89.57036700709325, 86.58633628844889, 78.62892788909895, 78.62892788909895, 74.65022882720022, 71.66619810855588, 58.73541202850035, 58.73541202850035, 51.77268224795727, 51.77268224795727, 49.78333014811979, 48.788656667089164, 47.7939780482823, 47.7939780482823, 46.79930456725168, 46.79930456725168, 45.804625948444816, 45.804625948444816, 41.825924317657964, 346.013354361066, 123.38495771618231, 67.6733951025148, 432.07768040775215, 88.51824284720938, 110.37392710087421, 472.3546443035372, 99.48338432734202, 370.0213415670742, 432.6069332328567, 657.1659840499527, 115.4202524258466, 80.54442115965414, 396.4319325828007, 187.8464778756109, 148.07953345951495, 401.98273174992846, 537.5211534025312, 404.0988690593115, 159.76219065719374, 207.08858410108377, 225.61817044505494, 597.5621464507782, 444.4803997056287, 313.12640061327795, 174.85900881896094, 147.20552820524387, 139.30453213357205, 106.71295575144771, 103.75007799672011, 102.76245207847758, 90.9109636081041, 74.12135682078643, 73.13373090254389, 70.17085878495052, 68.19561258559969, 66.22036074911462, 65.23274046800633, 65.23274046800633, 62.269862713278734, 61.2822367950362, 54.368872278741165, 53.38124636049863, 52.39362044225609, 51.406000161147794, 47.455502125311895, 47.455502125311895, 46.46787902563648, 45.48025310739394, 41.529757890125154, 41.529757890125154, 41.529757890125154, 377.3995201295131, 100.7779688420363, 362.0065290994134, 537.5211534025312, 122.59550359626867, 215.58905270455256, 168.88937349036775, 198.85557184686235, 113.75761831161093, 396.4319325828007, 231.75877368372534, 171.30241754304, 432.6069332328567, 141.6248262811165, 187.8661523854636, 117.72398835786231, 153.3224049834213, 144.58228499786554, 657.1659840499527, 432.07768040775215, 350.00412042853344, 198.88736680567203, 198.88736680567203, 144.2069610420143, 120.34643017923835, 115.37549133837206, 95.49170980353072, 72.62535536799837, 56.718327522987686, 55.724138010056016, 54.72994849712435, 53.73575898419268, 53.73575898419268, 49.759000932466, 44.78805772970368, 43.79386821677201, 42.79967870384034, 39.817110165045335, 39.817110165045335, 38.822920652113666, 37.828731139182, 34.846164781335006, 34.846164781335006, 34.846164781335006, 34.846164781335006, 33.851977449351345, 33.851977449351345, 32.857787936419676, 32.857787936419676, 30.86941109150435, 83.47651673505877, 282.88793770402407, 281.44447759523325, 238.6865578089466, 102.45930107866141, 48.733934495226535, 111.23303158243397, 252.96294300029513, 404.0988690593115, 145.79488296290336, 225.61817044505494, 89.34930931560142, 148.92655260592767, 127.93229970260926, 164.68411754651547, 221.2624593942026, 190.21088756285872, 161.72283273882246, 144.5526791384184, 128.93212302028815, 105.32201297138155, 171.30241754304, 103.13665832338559], \"Category\": [\"Default\", \"Default\", \"Default\", \"Default\", \"Default\", \"Default\", \"Default\", \"Default\", \"Default\", \"Default\", \"Default\", \"Default\", \"Default\", \"Default\", \"Default\", \"Default\", \"Default\", \"Default\", \"Default\", \"Default\", \"Default\", \"Default\", \"Default\", \"Default\", \"Default\", \"Default\", \"Default\", \"Default\", \"Default\", \"Default\", \"Topic0\", \"Topic0\", \"Topic0\", \"Topic0\", \"Topic0\", \"Topic0\", \"Topic0\", \"Topic0\", \"Topic0\", \"Topic0\", \"Topic0\", \"Topic0\", \"Topic0\", \"Topic0\", \"Topic0\", \"Topic0\", \"Topic0\", \"Topic0\", \"Topic0\", \"Topic0\", \"Topic0\", \"Topic0\", \"Topic0\", \"Topic0\", \"Topic0\", \"Topic0\", \"Topic0\", \"Topic0\", \"Topic0\", \"Topic0\", \"Topic0\", \"Topic0\", \"Topic0\", \"Topic0\", \"Topic0\", \"Topic0\", \"Topic0\", \"Topic0\", \"Topic0\", \"Topic0\", \"Topic0\", \"Topic0\", \"Topic0\", \"Topic0\", \"Topic0\", \"Topic0\", \"Topic0\", \"Topic1\", \"Topic1\", \"Topic1\", \"Topic1\", \"Topic1\", \"Topic1\", \"Topic1\", \"Topic1\", \"Topic1\", \"Topic1\", \"Topic1\", \"Topic1\", \"Topic1\", \"Topic1\", \"Topic1\", \"Topic1\", \"Topic1\", \"Topic1\", \"Topic1\", \"Topic1\", \"Topic1\", \"Topic1\", \"Topic1\", \"Topic1\", \"Topic1\", \"Topic1\", \"Topic1\", \"Topic1\", \"Topic1\", \"Topic1\", \"Topic1\", \"Topic1\", \"Topic1\", \"Topic1\", \"Topic1\", \"Topic1\", \"Topic1\", \"Topic1\", \"Topic1\", \"Topic1\", \"Topic1\", \"Topic1\", \"Topic1\", \"Topic1\", \"Topic1\", \"Topic1\", \"Topic1\", \"Topic1\", \"Topic1\", \"Topic2\", \"Topic2\", \"Topic2\", \"Topic2\", \"Topic2\", \"Topic2\", \"Topic2\", \"Topic2\", \"Topic2\", \"Topic2\", \"Topic2\", \"Topic2\", \"Topic2\", \"Topic2\", \"Topic2\", \"Topic2\", \"Topic2\", \"Topic2\", \"Topic2\", \"Topic2\", \"Topic2\", \"Topic2\", \"Topic2\", \"Topic2\", \"Topic2\", \"Topic2\", \"Topic2\", \"Topic2\", \"Topic2\", \"Topic2\", \"Topic2\", \"Topic2\", \"Topic2\", \"Topic2\", \"Topic2\", \"Topic2\", \"Topic2\", \"Topic2\", \"Topic2\", \"Topic2\", \"Topic2\", \"Topic2\", \"Topic2\", \"Topic2\", \"Topic2\", \"Topic2\", \"Topic2\", \"Topic2\", \"Topic2\", \"Topic2\", \"Topic2\", \"Topic2\", \"Topic3\", \"Topic3\", \"Topic3\", \"Topic3\", \"Topic3\", \"Topic3\", \"Topic3\", \"Topic3\", \"Topic3\", \"Topic3\", \"Topic3\", \"Topic3\", \"Topic3\", \"Topic3\", \"Topic3\", \"Topic3\", \"Topic3\", \"Topic3\", \"Topic3\", \"Topic3\", \"Topic3\", \"Topic3\", \"Topic3\", \"Topic3\", \"Topic3\", \"Topic3\", \"Topic3\", \"Topic3\", \"Topic3\", \"Topic3\", \"Topic3\", \"Topic3\", \"Topic3\", \"Topic3\", \"Topic3\", \"Topic3\", \"Topic3\", \"Topic3\", \"Topic3\", \"Topic3\", \"Topic3\", \"Topic3\", \"Topic3\", \"Topic3\", \"Topic3\", \"Topic3\", \"Topic3\", \"Topic3\", \"Topic3\", \"Topic3\", \"Topic4\", \"Topic4\", \"Topic4\", \"Topic4\", \"Topic4\", \"Topic4\", \"Topic4\", \"Topic4\", \"Topic4\", \"Topic4\", \"Topic4\", \"Topic4\", \"Topic4\", \"Topic4\", \"Topic4\", \"Topic4\", \"Topic4\", \"Topic4\", \"Topic4\", \"Topic4\", \"Topic4\", \"Topic4\", \"Topic4\", \"Topic4\", \"Topic4\", \"Topic4\", \"Topic4\", \"Topic4\", \"Topic4\", \"Topic4\", \"Topic4\", \"Topic4\", \"Topic4\", \"Topic4\", \"Topic4\", \"Topic4\", \"Topic4\", \"Topic4\", \"Topic4\", \"Topic4\", \"Topic4\", \"Topic4\", \"Topic4\", \"Topic4\", \"Topic4\", \"Topic4\", \"Topic4\", \"Topic4\", \"Topic4\", \"Topic4\", \"Topic4\", \"Topic4\", \"Topic4\"], \"logprob\": [30.0, 29.0, 28.0, 27.0, 26.0, 25.0, 24.0, 23.0, 22.0, 21.0, 20.0, 19.0, 18.0, 17.0, 16.0, 15.0, 14.0, 13.0, 12.0, 11.0, 10.0, 9.0, 8.0, 7.0, 6.0, 5.0, 4.0, 3.0, 2.0, 1.0, -4.4631, -4.8811, -4.8888, -4.9772, -4.9942, -5.1412, -5.3496, -5.3743, -5.3868, -5.3996, -5.4522, -5.5666, -5.5819, -5.6787, -5.7309, -5.7673, -5.7673, -5.7673, -5.805, -5.8244, -5.8644, -5.9276, -5.972, -5.995, -6.0426, -6.0426, -6.0926, -6.0926, -6.1186, -6.1186, -4.4093, -5.7489, -5.6454, -5.2024, -5.6787, -4.5859, -5.3137, -5.1216, -5.3255, -4.9122, -5.3496, -5.6958, -5.2677, -5.3137, -5.5666, -5.7309, -5.7309, -4.9142, -5.6995, -5.8863, -5.9001, -5.9573, -5.9721, -6.0336, -6.0659, -6.0659, -6.0992, -6.0992, -6.0992, -6.0992, -6.1514, -6.1694, -6.2255, -6.2255, -6.2449, -6.2849, -6.3055, -6.3266, -6.3481, -6.4155, -6.5131, -6.5131, -6.5131, -6.5391, -6.5657, -6.5657, -6.5657, -5.655, -5.4147, -5.9001, -5.5919, -5.3017, -5.7701, -6.439, -5.6125, -5.3647, -5.8863, -4.7833, -6.0992, -5.8863, -5.833, -6.0496, -6.0024, -5.9283, -6.0024, -6.0024, -4.4619, -4.5059, -4.5734, -4.5778, -4.6044, -4.6841, -4.9832, -5.0099, -5.0235, -5.2709, -5.3249, -5.5072, -5.5411, -5.6376, -5.6376, -5.6895, -5.7304, -5.9295, -5.9295, -6.0557, -6.0557, -6.0949, -6.1151, -6.1357, -6.1357, -6.1568, -6.1568, -6.1783, -6.1783, -6.2693, -4.2326, -5.2621, -5.8174, -4.1723, -5.6003, -5.4119, -4.2202, -5.5297, -4.5018, -4.4857, -4.187, -5.4853, -5.7304, -4.7654, -5.228, -5.3821, -4.9319, -4.8772, -5.0304, -5.4019, -5.4019, -5.4745, -3.7018, -3.9978, -4.3481, -4.9308, -5.103, -5.1582, -5.4248, -5.453, -5.4625, -5.5851, -5.7894, -5.8028, -5.8442, -5.8728, -5.9022, -5.9172, -5.9172, -5.9637, -5.9797, -6.0995, -6.1179, -6.1365, -6.1556, -6.2356, -6.2356, -6.2567, -6.2782, -6.3691, -6.3691, -6.3691, -4.1908, -5.5636, -4.4133, -4.1827, -5.453, -5.0194, -5.2166, -5.103, -5.553, -4.7551, -5.1582, -5.3796, -5.0507, -5.5851, -5.4918, -5.6881, -5.6526, -5.6761, -5.453, -5.5743, -3.9803, -4.5456, -4.5456, -4.8671, -5.0481, -5.0903, -5.2795, -5.5533, -5.8007, -5.8184, -5.8364, -5.8548, -5.8548, -5.9317, -6.037, -6.0595, -6.0825, -6.1548, -6.1548, -6.1801, -6.2061, -6.2883, -6.2883, -6.2883, -6.2883, -6.3173, -6.3173, -6.3471, -6.3471, -6.4096, -5.5533, -4.5063, -4.5356, -4.6791, -5.3895, -6.037, -5.4371, -4.8467, -4.6677, -5.3895, -5.1434, -5.7006, -5.4371, -5.5533, -5.4744, -5.4618, -5.5811, -5.6541, -5.7166, -5.7494, -5.7833, -5.7494, -5.8007], \"loglift\": [30.0, 29.0, 28.0, 27.0, 26.0, 25.0, 24.0, 23.0, 22.0, 21.0, 20.0, 19.0, 18.0, 17.0, 16.0, 15.0, 14.0, 13.0, 12.0, 11.0, 10.0, 9.0, 8.0, 7.0, 6.0, 5.0, 4.0, 3.0, 2.0, 1.0, 1.848, 1.8479, 1.8479, 1.8479, 1.8478, 1.8478, 1.8477, 1.8477, 1.8477, 1.8477, 1.8476, 1.8476, 1.8476, 1.8475, 1.8475, 1.8474, 1.8474, 1.8474, 1.8474, 1.8474, 1.8474, 1.8473, 1.8473, 1.8473, 1.8472, 1.8472, 1.8472, 1.8472, 1.8471, 1.8471, 1.8432, 1.7599, 1.7089, 1.5405, 1.6758, 1.0087, 1.3614, 1.1362, 1.2919, 0.7653, 1.0471, 1.6165, 0.1656, 0.2757, 0.4911, 1.5535, 0.6244, 1.422, 1.4218, 1.4217, 1.4217, 1.4216, 1.4216, 1.4216, 1.4216, 1.4216, 1.4215, 1.4215, 1.4215, 1.4215, 1.4215, 1.4215, 1.4215, 1.4215, 1.4214, 1.4214, 1.4214, 1.4214, 1.4214, 1.4213, 1.4212, 1.4212, 1.4212, 1.4212, 1.4211, 1.4211, 1.4211, 1.411, 1.4049, 1.4079, 1.3438, 1.2739, 1.3174, 1.3979, 1.046, 0.8956, 1.1372, 0.3198, 1.2082, 0.8627, 0.7688, 1.0277, 0.7597, 0.4271, 0.6048, 0.5843, 1.589, 1.589, 1.589, 1.589, 1.589, 1.589, 1.5889, 1.5889, 1.5889, 1.5888, 1.5888, 1.5887, 1.5887, 1.5887, 1.5887, 1.5886, 1.5886, 1.5885, 1.5885, 1.5884, 1.5884, 1.5884, 1.5884, 1.5883, 1.5883, 1.5883, 1.5883, 1.5883, 1.5883, 1.5882, 1.5119, 1.5135, 1.5589, 1.3501, 1.5075, 1.4752, 1.213, 1.4613, 1.1756, 1.0355, 0.916, 1.3571, 1.4718, 0.8431, 1.1274, 1.2112, 0.6627, 0.4268, 0.559, 1.1154, 0.856, 0.6977, 1.4963, 1.4963, 1.4963, 1.4962, 1.4961, 1.4961, 1.496, 1.496, 1.496, 1.496, 1.4959, 1.4959, 1.4958, 1.4958, 1.4958, 1.4958, 1.4958, 1.4958, 1.4958, 1.4957, 1.4957, 1.4957, 1.4956, 1.4956, 1.4956, 1.4956, 1.4955, 1.4955, 1.4955, 1.4955, 1.4669, 1.4144, 1.2861, 1.1213, 1.3291, 1.1982, 1.2451, 1.1954, 1.3039, 0.8534, 0.9871, 1.068, 0.4704, 1.0527, 0.8634, 1.1346, 0.9059, 0.941, -0.3499, -0.0519, 1.7528, 1.7527, 1.7527, 1.7526, 1.7526, 1.7525, 1.7525, 1.7523, 1.7522, 1.7522, 1.7522, 1.7521, 1.7521, 1.7521, 1.752, 1.752, 1.752, 1.7519, 1.7519, 1.7519, 1.7518, 1.7517, 1.7517, 1.7517, 1.7517, 1.7517, 1.7517, 1.7517, 1.7517, 1.7516, 1.6131, 1.4396, 1.4154, 1.4367, 1.5721, 1.6676, 1.4423, 1.2111, 0.9216, 1.2193, 1.0288, 1.3978, 1.1504, 1.1861, 1.0126, 0.7299, 0.7617, 0.851, 0.9007, 0.9823, 1.1506, 0.6981, 1.1542]}, \"token.table\": {\"Topic\": [3, 2, 3, 1, 1, 2, 3, 1, 1, 2, 3, 0, 2, 3, 4, 2, 4, 2, 4, 1, 3, 2, 1, 2, 0, 2, 3, 4, 0, 1, 0, 1, 1, 3, 0, 1, 0, 1, 0, 2, 0, 1, 3, 4, 2, 3, 4, 4, 4, 2, 2, 0, 3, 2, 3, 2, 4, 4, 2, 4, 4, 4, 3, 4, 4, 2, 3, 0, 0, 1, 2, 2, 4, 0, 2, 4, 3, 4, 0, 4, 0, 0, 2, 1, 2, 4, 0, 2, 3, 3, 0, 0, 0, 4, 0, 0, 4, 1, 2, 3, 2, 3, 1, 2, 4, 4, 1, 1, 1, 4, 3, 0, 1, 2, 3, 1, 2, 2, 1, 2, 0, 3, 3, 3, 1, 0, 1, 1, 0, 0, 0, 3, 4, 3, 4, 2, 4, 0, 0, 1, 1, 1, 4, 4, 4, 3, 0, 2, 1, 2, 1, 1, 0, 0, 3, 3, 0, 2, 1, 2, 1, 4, 3, 0, 1, 4, 3, 1, 3, 1, 1, 3, 4, 2, 2, 4, 2, 2, 4, 2, 1, 2, 2, 1, 3, 4, 2, 3, 4, 1, 0, 2, 3, 1, 3, 2, 3, 4, 4, 4, 2, 3, 1, 3, 4, 3, 1, 0, 1, 2, 3, 1, 2, 3, 2, 4, 4, 4, 4, 1, 0, 2, 4, 1, 4, 3, 4, 2, 2, 0, 1, 3, 4, 1, 2, 2, 0, 2, 1, 1, 0, 3, 0, 2, 0, 4, 3, 3, 3, 2, 2, 3, 0, 2, 3, 2, 2, 0, 0, 2, 3, 4, 0, 2, 4, 1, 0, 2, 4, 4, 1, 3, 3, 0, 2, 3, 4, 2, 3, 0, 4, 0, 1, 2, 4, 3, 3, 0, 2, 1, 2, 3, 4, 4, 0, 2, 3, 0, 1, 1, 1, 3, 0, 1, 4, 2, 2, 0, 2, 3, 2, 2, 0, 0, 0, 0, 1, 1, 4, 0, 1, 2, 3, 1, 3, 3, 3, 3, 0, 0, 0, 1, 1, 3, 0, 0, 0, 1, 3, 4, 3, 3, 3, 4, 3, 4, 2, 0, 1, 2, 3, 4, 0, 4], \"Freq\": [0.9964321525305153, 0.1906042970320333, 0.80937766710704, 1.0069124847690023, 0.07766696256584484, 0.32361234402435346, 0.5997615442584684, 0.9961798543112382, 0.13074815937278572, 0.13074815937278572, 0.7392299779922885, 0.9956871946265718, 0.4122008427625664, 0.10637441103550101, 0.48311711678623376, 0.2878009925513347, 0.7141728333681268, 0.996098626088524, 1.0045274809823217, 1.0068428711441555, 0.998171419659663, 1.0007247755588602, 1.0068428711441555, 1.0047192823412832, 0.43285441452307105, 0.3955393787883235, 0.1592108191349227, 0.012438345244915834, 0.7901004238901987, 0.20792116418163126, 0.8386139976233968, 0.15904748230788562, 0.9799670329720536, 0.013802352577071176, 0.99423663548451, 0.004803075533741595, 0.7373271386937879, 0.26669279484668923, 0.7413332408645621, 0.25609693775321235, 0.08531620935357663, 0.20165649483572656, 0.2559486280607299, 0.4653611419285998, 0.7868955408183586, 0.21292467575084995, 1.0049661633075861, 1.0044146958389921, 0.9971213921449735, 1.004161908796563, 1.0005996615567359, 0.9857368045932986, 0.9924872448413846, 1.0012307883579605, 0.9894404038108604, 0.272323672504542, 0.7289895233198509, 0.998564833205562, 0.9239375861539769, 0.07294244101215608, 1.0005663164842342, 1.0051585927546003, 1.0009793801359286, 0.9948507592487097, 1.0048433260921192, 0.9752724818966173, 0.029553711572624767, 0.9981823591403048, 0.04153899904262011, 0.7477019827671619, 0.20769499521310053, 1.0002056111943591, 1.0043281082663114, 0.2078699210308132, 0.3563484360528226, 0.4355369773978943, 0.30218476456969645, 0.7050977839959583, 0.5741851378660524, 0.42890938009271384, 1.000741002027491, 0.986453270239317, 0.9982239630625569, 1.00728741001394, 1.0010458246371565, 1.0045612062387865, 0.11042779115231856, 0.1953722458848713, 0.6965445288069324, 0.9904014897132668, 0.9959603817617839, 0.9889864660201461, 0.9109880733211558, 0.08435074752973665, 0.9947222167566706, 0.9940193623401411, 1.0047068640341994, 1.0072346618780312, 0.924819796596865, 0.07514160847349528, 0.9955848094029331, 0.9872438964964176, 0.42936318068866436, 0.42936318068866436, 0.14088479366346798, 1.0049342546501727, 0.993510101552893, 1.0073772529997453, 1.0069124847690023, 1.0043726411808622, 0.9986038010409684, 0.9973500703790017, 0.6794413387081273, 0.12054604396434515, 0.20821589412023253, 0.8138491152236351, 0.19311673920560835, 0.9981263105721603, 0.5905235746138406, 0.41143035936210215, 0.07938242943296012, 0.9228207421581613, 0.9872438964964176, 1.0008063135093315, 0.9914129347891469, 0.9975978342803915, 1.0073772529997453, 1.006878633216741, 0.9940193623401411, 0.9978572710995827, 0.9895478361158402, 0.4460101844270224, 0.5526647937465278, 0.8263182843940192, 0.1758124009348977, 1.0045047436012071, 0.996745484383067, 1.0004168573854841, 1.000248634320689, 0.9974963422764629, 1.0070323790932008, 1.007215681351663, 1.0049174147867728, 1.0043726411808622, 1.0049504936244003, 0.9964321525305153, 0.8673497704826717, 0.13010246557240077, 0.9859607692628979, 0.010834733728163713, 1.007175461366906, 0.9937112030507945, 0.9977353361947384, 0.9920115046881679, 0.9966723112556048, 0.9953944762822519, 0.3378183525053273, 0.6621239709104415, 0.367321233702826, 0.6281725445932386, 0.896710620220605, 0.09963451335784501, 0.9921020861402353, 0.44939406394777553, 0.2774037431776392, 0.2774037431776392, 1.0024088849676605, 0.25975344896915287, 0.7421527113404368, 1.0071085474292318, 0.30887708870640357, 0.14772382503349737, 0.5506069842157629, 1.00074499062497, 0.7970871494940346, 0.2079357781288786, 0.9984114933441527, 1.004657731263189, 1.0042303660445142, 1.0047774710108193, 0.12062315813980524, 0.8845698263585718, 1.0043318129120247, 0.2005778232127686, 0.5740675629882688, 0.22824372986280564, 0.14827908744132404, 0.6425427122457376, 0.21182726777332006, 0.992646412800737, 0.18630069813275893, 0.6859252976706124, 0.12702320327233563, 0.8625042225627533, 0.139327605183214, 0.5755802343231802, 0.35829291694816434, 0.06703544897739849, 0.9999882274856411, 1.0005663164842342, 0.8878908504400203, 0.1087213286253086, 1.0071318220383723, 0.41153707716385796, 0.5898698106015298, 0.9928580468518108, 1.0069124847690023, 0.986453270239317, 0.33172745591078756, 0.5097646684867607, 0.15825530006753166, 0.4382517311553389, 0.5135762474476627, 0.04793378309511519, 0.16591953898795908, 0.8393576678214401, 1.004593247330019, 1.004593247330019, 1.0049174147867728, 1.007349368778406, 0.32182824178555053, 0.20038362224383333, 0.47970624718978283, 0.4557451822824799, 0.5506920952579966, 0.6538144738783959, 0.3502577538634264, 1.0043906891080903, 1.0043522570956092, 0.2681234531495791, 0.16297700093405787, 0.19977825920949027, 0.37326990536510024, 1.007349368778406, 1.004685466853818, 1.0042884276722512, 0.9932624943982813, 1.0042884276722512, 1.007303701269393, 0.9924144343449267, 0.21907831875585837, 0.7756556691085796, 0.11173958258586666, 0.8939166606869333, 0.08207833086802786, 0.9233812222653135, 1.00073273307525, 0.9956662388269376, 0.9983627280180549, 1.0047965974379978, 0.029146830913364976, 0.9697945558446891, 0.2927616247079519, 0.17565697482477113, 0.5322938631053671, 1.0043106257342624, 1.0043106257342624, 0.9877815777651049, 0.992861860608282, 0.31254583924102897, 0.6864846111901172, 1.0044146958389921, 0.49254284316421765, 0.4780562889535054, 0.028973108421424566, 1.0071540637313154, 0.31535435742931534, 0.27825384479057236, 0.4081056390261728, 1.0046804392515611, 1.007349368778406, 0.9995963271923722, 0.9904014897132668, 0.2033783775304952, 0.3208858845481146, 0.11750750701761944, 0.3615615600542137, 0.61967102224097, 0.37555819529755763, 0.1317735865155018, 0.8744974377846938, 0.08779066016948392, 0.15532193722293308, 0.6820658982398365, 0.07428440475879408, 0.9989191880993024, 0.9872438964964176, 0.07907974418428801, 0.9263627175873739, 1.007349368778406, 0.47423021343199545, 0.5246802361375269, 1.0047321156808227, 1.0043281082663114, 0.23479934327858126, 0.2152327313386995, 0.5543873382966502, 0.4261650764623199, 0.5682201019497598, 1.0068428711441555, 1.0072346618780312, 0.9971315957407941, 0.25695463228352844, 0.1620790757480718, 0.581112783779672, 1.0043906891080903, 1.0042653781689013, 0.6156191397020986, 0.21253517918286735, 0.17589118277202814, 1.0045047436012071, 1.0042653781689013, 1.0000759976011537, 1.0031807469672505, 0.9962586517215692, 0.07608611209168381, 0.9225441091116662, 0.9823342283517497, 0.01693679704054741, 0.0817368361914788, 0.5176666292126991, 0.2724561206382627, 0.12941665730317478, 0.15498121417707758, 0.8483182249692668, 0.9978139107973885, 0.997565103407468, 1.0026898725326368, 0.9993392581091015, 0.9905975203486302, 0.02342231643567251, 0.9837372902982455, 0.6848129948355055, 0.30996798713607093, 0.9857368045932986, 0.9877815777651049, 0.15283229952607583, 0.10788162319487705, 0.008990135266239754, 0.7371910918316599, 0.9932153774157755, 1.0023116217715495, 0.42991488566884756, 0.570614302796834, 0.2686576197515929, 0.7317385169549965, 1.0047192823412832, 0.11993009760265554, 0.5117017497713303, 0.3677856326481437, 0.989931130160291, 1.0044146958389921, 0.9940193623401411, 1.0044146958389921], \"Term\": [\"+\", \"1\", \"1\", \"11\", \"2\", \"2\", \"2\", \"2c\", \"3\", \"3\", \"3\", \"Accent\", \"Accord\", \"Accord\", \"Accord\", \"Accorde\", \"Accorde\", \"Accordes\", \"Accordfolge\", \"Akustik\", \"Auffassung\", \"Aufl\\u00f6sung\", \"Auge\", \"B\", \"Bedeutung\", \"Bedeutung\", \"Bedeutung\", \"Bedeutung\", \"Begriff\", \"Begriff\", \"Begriffe\", \"Begriffe\", \"Begr\\u00fcndung\", \"Begr\\u00fcndung\", \"Bestimmung\", \"Bestimmung\", \"Bestimmungen\", \"Bestimmungen\", \"Bewegung\", \"Bewegung\", \"Beziehung\", \"Beziehung\", \"Beziehung\", \"Beziehung\", \"C\", \"C\", \"C-Durtonart\", \"C-dur\", \"C-e-G\", \"Consonanz\", \"D\", \"Daktylus\", \"Deutung\", \"Dissonanz\", \"Dominante\", \"Dreiklang\", \"Dreiklang\", \"Dreiklange\", \"Dreiklanges\", \"Dreiklanges\", \"Dreikl\\u00e4nge\", \"Dreikl\\u00e4ngen\", \"Dur\", \"Durtonart\", \"D|F-a\", \"E\", \"E\", \"Einheit\", \"Erkl\\u00e4rung\", \"Erkl\\u00e4rung\", \"Erkl\\u00e4rung\", \"F\", \"F-a-C\", \"Folge\", \"Folge\", \"Folge\", \"Folgen\", \"Folgen\", \"Form\", \"Form\", \"Formation\", \"Formen\", \"Fortschreitung\", \"Frage\", \"G\", \"G-h-D\", \"GRAPHIC\", \"GRAPHIC\", \"GRAPHIC\", \"Gebilde\", \"Glied\", \"Gliede\", \"Glieder\", \"Glieder\", \"Gliederung\", \"Gliedes\", \"Grenzen\", \"Grundlage\", \"Grundton\", \"Grundton\", \"Grundtone\", \"H.\", \"Harmonie\", \"Harmonie\", \"Harmonie\", \"Harmonieen\", \"Harmonielehre\", \"Harmoniesystem\", \"Harmonik\", \"Haupttonart\", \"Helmholtz\", \"H\\u00e4lfte\", \"II\", \"II\", \"II\", \"III\", \"III\", \"Intervall\", \"Intervalle\", \"Intervalle\", \"Klang\", \"Klang\", \"Klangfolge\", \"Kl\\u00e4nge\", \"Konsonanz\", \"K\\u00fcrze\", \"Lehre\", \"Leipzig\", \"L\\u00e4nge\", \"Metrum\", \"Metrums\", \"Modulation\", \"Modulation\", \"Moll\", \"Moll\", \"Molldreiklang\", \"Molltonart\", \"Moment\", \"Momente\", \"Musik\", \"Musiker\", \"Musiktheorie\", \"Oberdominant\", \"Oberdominantquint\", \"Oberdominantseite\", \"Oberton\", \"Octav\", \"Octav\", \"Octave\", \"Octave\", \"Octaven\", \"Ohr\", \"Ordnung\", \"Paare\", \"Phonica\", \"Prinzip\", \"Quint\", \"Quint\", \"Quinte\", \"Quinte\", \"Quinten\", \"Quinten\", \"R.\", \"Reihe\", \"Reihe\", \"Reihe\", \"Riemann\", \"S.\", \"S.\", \"Schrift\", \"Seite\", \"Seite\", \"Seite\", \"Septime\", \"Septimenaccord\", \"Septimenaccord\", \"Septimenaccorde\", \"Septimenaccordes\", \"Stellung\", \"Stimme\", \"Stimmen\", \"Stimmen\", \"Stufen\", \"System\", \"System\", \"System\", \"Systeme\", \"Systeme\", \"Systeme\", \"Temperatur\", \"Terz\", \"Terz\", \"Terz\", \"Theorie\", \"Theorie\", \"Ton\", \"Ton\", \"Ton\", \"Tonart\", \"Tonarten\", \"Tone\", \"Tone\", \"Tonh\\u00f6he\", \"Tonica\", \"Tonica\", \"Tonika\", \"Tonverh\\u00e4ltnisse\", \"Trennung\", \"T\\u00f6ne\", \"T\\u00f6ne\", \"T\\u00f6ne\", \"T\\u00f6nen\", \"T\\u00f6nen\", \"T\\u00f6nen\", \"Uebergang\", \"Uebergang\", \"Uebergange\", \"Unterdominant\", \"Unterdominantseite\", \"V\", \"Verbindung\", \"Verbindung\", \"Verbindung\", \"Verfasser\", \"Verfasser\", \"Verwandtschaft\", \"Verwandtschaft\", \"Vorhalt\", \"Vorhalte\", \"Weise\", \"Weise\", \"Weise\", \"Weise\", \"Weitzmann\", \"Zusammenklang\", \"Zusammenklange\", \"Zweiheit\", \"abw\\u00e4rts\", \"akustischen\", \"alten\", \"b\", \"b\", \"bildet\", \"bildet\", \"bringen\", \"bringen\", \"c\", \"c+\", \"c.\", \"chromatischen\", \"d\", \"d\", \"d.\", \"d.\", \"d.\", \"de\", \"dissonirenden\", \"doppel-zweizeitigen\", \"dreizeitigen\", \"e\", \"e\", \"e-G-h\", \"enthalten\", \"enthalten\", \"enthalten\", \"erkl\\u00e4rt\", \"erscheinen\", \"erscheinen\", \"erscheinen\", \"ersteren\", \"etc.\", \"f\", \"f+\", \"finden\", \"finden\", \"finden\", \"finden\", \"fis\", \"fis\", \"folgen\", \"folgen\", \"folgenden\", \"folgenden\", \"folgenden\", \"folgenden\", \"g\", \"g+\", \"gleichzeitig\", \"gleichzeitig\", \"gr\", \"h\", \"h\", \"h-D|F\", \"h-D|F-a\", \"h.\", \"h.\", \"h.\", \"harmonischen\", \"harmonischen\", \"i\", \"kl\", \"l.\", \"lassen\", \"lassen\", \"lassen\", \"liegen\", \"liegenden\", \"l\\u00e4sst\", \"l\\u00e4sst\", \"l\\u00e4sst\", \"melodisch\", \"melodischen\", \"metrisch\", \"metrische\", \"metrischen\", \"musikalische\", \"musikalische\", \"musikalischen\", \"musikalischen\", \"n\\u00e4mlich\", \"n\\u00e4mlich\", \"n\\u00e4mlich\", \"n\\u00e4mlich\", \"pag\", \"pag\", \"phon\", \"phonische\", \"phonischen\", \"positive\", \"positiven\", \"praktischen\", \"praktischen\", \"reinen\", \"reinen\", \"rhythmische\", \"setzt\", \"stehen\", \"stehen\", \"stehen\", \"stehen\", \"sub\", \"ton\", \"tonische\", \"tonische\", \"tonischen\", \"tonischen\", \"verminderte\", \"verschiedenen\", \"verschiedenen\", \"verschiedenen\", \"verstanden\", \"verwandten\", \"vierzeitigen\", \"\\u00fcberm\\u00e4\\u00dfigen\"]}, \"R\": 30, \"lambda.step\": 0.01, \"plot.opts\": {\"xlab\": \"PC1\", \"ylab\": \"PC2\"}, \"topic.order\": [0, 1, 2, 3, 4]};\n",
       "\n",
       "function LDAvis_load_lib(url, callback){\n",
       "  var s = document.createElement('script');\n",
       "  s.src = url;\n",
       "  s.async = true;\n",
       "  s.onreadystatechange = s.onload = callback;\n",
       "  s.onerror = function(){console.warn(\"failed to load library \" + url);};\n",
       "  document.getElementsByTagName(\"head\")[0].appendChild(s);\n",
       "}\n",
       "\n",
       "if(typeof(LDAvis) !== \"undefined\"){\n",
       "   // already loaded: just create the visualization\n",
       "   !function(LDAvis){\n",
       "       new LDAvis(\"#\" + \"ldavis_el84027843110556885279371397\", ldavis_el84027843110556885279371397_data);\n",
       "   }(LDAvis);\n",
       "}else if(typeof define === \"function\" && define.amd){\n",
       "   // require.js is available: use it to load d3/LDAvis\n",
       "   require.config({paths: {d3: \"https://d3js.org/d3.v5\"}});\n",
       "   require([\"d3\"], function(d3){\n",
       "      window.d3 = d3;\n",
       "      LDAvis_load_lib(\"https://cdn.jsdelivr.net/gh/bmabey/pyLDAvis@3.3.1/pyLDAvis/js/ldavis.v3.0.0.js\", function(){\n",
       "        new LDAvis(\"#\" + \"ldavis_el84027843110556885279371397\", ldavis_el84027843110556885279371397_data);\n",
       "      });\n",
       "    });\n",
       "}else{\n",
       "    // require.js not available: dynamically load d3 & LDAvis\n",
       "    LDAvis_load_lib(\"https://d3js.org/d3.v5.js\", function(){\n",
       "         LDAvis_load_lib(\"https://cdn.jsdelivr.net/gh/bmabey/pyLDAvis@3.3.1/pyLDAvis/js/ldavis.v3.0.0.js\", function(){\n",
       "                 new LDAvis(\"#\" + \"ldavis_el84027843110556885279371397\", ldavis_el84027843110556885279371397_data);\n",
       "            })\n",
       "         });\n",
       "}\n",
       "</script>"
      ],
      "text/plain": [
       "<IPython.core.display.HTML object>"
      ]
     },
     "execution_count": 21,
     "metadata": {},
     "output_type": "execute_result"
    }
   ],
   "source": [
    "pyLDAvis.display(prepared_data)"
   ]
  },
  {
   "cell_type": "code",
   "execution_count": null,
   "metadata": {},
   "outputs": [],
   "source": []
  }
 ],
 "metadata": {
  "kernelspec": {
   "display_name": "Python 3",
   "language": "python",
   "name": "python3"
  },
  "language_info": {
   "codemirror_mode": {
    "name": "ipython",
    "version": 3
   },
   "file_extension": ".py",
   "mimetype": "text/x-python",
   "name": "python",
   "nbconvert_exporter": "python",
   "pygments_lexer": "ipython3",
   "version": "3.7.10"
  }
 },
 "nbformat": 4,
 "nbformat_minor": 4
}
