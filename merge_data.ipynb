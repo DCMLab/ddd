{
 "cells": [
  {
   "cell_type": "code",
   "execution_count": 36,
   "id": "e4a8ef17",
   "metadata": {},
   "outputs": [],
   "source": [
    "import pandas\n",
    "import re\n",
    "import os"
   ]
  },
  {
   "cell_type": "code",
   "execution_count": 45,
   "id": "b4e014ae",
   "metadata": {},
   "outputs": [
    {
     "name": "stdout",
     "output_type": "stream",
     "text": [
      "CAP1905 done\n",
      "HAU1853 done\n",
      "HOS1879 done\n",
      "KUN1863 done\n",
      "NAU1858 done\n",
      "OET1866 crashed\n",
      "RIE1905 done\n",
      "THU1877 done\n",
      "WEI1860 done\n",
      "WEI1861 done\n"
     ]
    }
   ],
   "source": [
    "tables = []\n",
    "for folder in os.listdir('data/'):\n",
    "    if '.' in folder:\n",
    "        pass\n",
    "    else:\n",
    "        try:\n",
    "            table = pandas.read_excel(f'data/{folder}/{folder}.xlsx', sheet_name='Overview')\n",
    "            to_clean = table['Tag']\n",
    "\n",
    "            tags = []\n",
    "            offsets = []\n",
    "            lengths = []\n",
    "            continued = []\n",
    "            ids = []\n",
    "            source = []\n",
    "            \n",
    "            #Catch every information contained in \"Tag\" column to separate it into several columns\n",
    "            for i in range(len(to_clean)):\n",
    "                chunks = re.split(' {|,|}', to_clean[i])\n",
    "                tag = chunks[0]\n",
    "                tags.append(tag)\n",
    "                offset = chunks[1].replace('offset=', '')\n",
    "                offsets.append(offset)\n",
    "                length = chunks[2].replace(' length=', '')\n",
    "                lengths.append(length)\n",
    "                if 'true' in chunks[3]:\n",
    "                    continued.append(True)\n",
    "                else:\n",
    "                    continued.append(False)\n",
    "                ID = chunks[4].replace(' ID=', '')\n",
    "                ids.append(ID)\n",
    "                source.append(f'{folder}')\n",
    "\n",
    "            #Create new columns with the information found above\n",
    "            table['Label'] = tags\n",
    "            table['Offset'] = offsets\n",
    "            table['Length'] = lengths\n",
    "            table['Continued'] = continued\n",
    "            table['ID'] = ids\n",
    "            #Add name of the book to merge all tables together\n",
    "            table['Source'] = source\n",
    "\n",
    "            tables.append(table)\n",
    "            print(f'{folder} done')\n",
    "        except:\n",
    "            print(f'{folder} crashed')\n",
    "\n",
    "#Merge all tables and save\n",
    "overview = pandas.concat(tables)\n",
    "overview.to_csv('overview.csv', encoding='utf-8', sep='\\t')\n",
    "        \n",
    "        \n"
   ]
  },
  {
   "cell_type": "code",
   "execution_count": null,
   "id": "167e8f6b",
   "metadata": {},
   "outputs": [],
   "source": []
  }
 ],
 "metadata": {
  "kernelspec": {
   "display_name": "Python 3",
   "language": "python",
   "name": "python3"
  },
  "language_info": {
   "codemirror_mode": {
    "name": "ipython",
    "version": 3
   },
   "file_extension": ".py",
   "mimetype": "text/x-python",
   "name": "python",
   "nbconvert_exporter": "python",
   "pygments_lexer": "ipython3",
   "version": "3.8.10"
  }
 },
 "nbformat": 4,
 "nbformat_minor": 5
}
